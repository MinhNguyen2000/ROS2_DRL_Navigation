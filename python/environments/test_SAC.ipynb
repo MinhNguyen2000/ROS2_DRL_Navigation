{
 "cells": [
  {
   "cell_type": "code",
   "execution_count": 1,
   "id": "62998c68",
   "metadata": {},
   "outputs": [],
   "source": [
    "from stable_baselines3 import SAC\n",
    "from stable_baselines3.common.vec_env import DummyVecEnv, SubprocVecEnv\n",
    "from stable_baselines3.common.env_util import make_vec_env\n",
    "\n",
    "import gymnasium as gym\n",
    "from gymnasium.wrappers import RescaleAction\n",
    "import nav2d       \n",
    "import numpy as np\n",
    "import os\n",
    "from tqdm import tqdm"
   ]
  },
  {
   "cell_type": "markdown",
   "id": "3ba35c27",
   "metadata": {},
   "source": [
    "test a given model:"
   ]
  },
  {
   "cell_type": "code",
   "execution_count": 3,
   "id": "2c2b8af7",
   "metadata": {},
   "outputs": [
    {
     "name": "stdout",
     "output_type": "stream",
     "text": [
      "ep: 19 | required: 343.86 | current: 204.61 | diff: 139.25 | rew_head: 0.02 | rew_approach: 0.00000 | total: 0.01                                              \r"
     ]
    }
   ],
   "source": [
    "import pyautogui\n",
    "\n",
    "# paths:\n",
    "results_path = \"results/Nav2D_SAC_SB3_results\"\n",
    "desired_result_path = \"result_4\"\n",
    "run = \"run_90\"\n",
    "\n",
    "# load:\n",
    "model = SAC.load(os.path.join(results_path, desired_result_path, run))\n",
    "\n",
    "# visualize:\n",
    "testing_length = 10\n",
    "\n",
    "# render settings:\n",
    "width = 1280\n",
    "height = 1280\n",
    "default_camera_config = {\"azimuth\" : 90.0, \"elevation\" : -90.0, \"distance\" : 3, \"lookat\" : [0.0, 0.0, 0.0]}\n",
    "camera_id = 2\n",
    "\n",
    "DEFAULT_CAMERA = \"overhead_camera\"\n",
    "ENABLE_FRAME = True\n",
    "RENDER_EVERY_FRAME = True\n",
    "\n",
    "# make a single environment:\n",
    "env = gym.make(\"Nav2D-v0\", \n",
    "            render_mode = \"human\", \n",
    "            width = width, \n",
    "            height = height,\n",
    "            default_camera_config = default_camera_config, \n",
    "            camera_id = camera_id, \n",
    "            max_episode_steps = 1000, \n",
    "            is_eval = False)\n",
    "\n",
    "if DEFAULT_CAMERA==\"overhead_camera\": pyautogui.press('tab')\n",
    "if ENABLE_FRAME: pyautogui.press('e') \n",
    "if not RENDER_EVERY_FRAME: pyautogui.press('d') \n",
    "\n",
    "# for every test episode:\n",
    "for eps in range(testing_length):\n",
    "    obs, _ = env.reset()\n",
    "    done = False\n",
    "\n",
    "    # while not done:\n",
    "    while not done:\n",
    "        action, _ = model.predict(obs, deterministic = True)\n",
    "        nobs, reward, term, trunc, _ = env.step(action)\n",
    "        done = term or trunc\n",
    "\n",
    "        # advance observation, reset if not:\n",
    "        obs = nobs if not done else env.reset()\n",
    "        \n",
    "        # render for user:\n",
    "        env.render()\n",
    "\n",
    "# close when done:\n",
    "env.close()"
   ]
  }
 ],
 "metadata": {
  "kernelspec": {
   "display_name": "Python 3",
   "language": "python",
   "name": "python3"
  },
  "language_info": {
   "codemirror_mode": {
    "name": "ipython",
    "version": 3
   },
   "file_extension": ".py",
   "mimetype": "text/x-python",
   "name": "python",
   "nbconvert_exporter": "python",
   "pygments_lexer": "ipython3",
   "version": "3.12.5"
  }
 },
 "nbformat": 4,
 "nbformat_minor": 5
}
