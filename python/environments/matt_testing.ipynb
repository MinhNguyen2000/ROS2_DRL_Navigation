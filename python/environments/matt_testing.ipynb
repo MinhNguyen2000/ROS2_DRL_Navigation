{
 "cells": [
  {
   "cell_type": "markdown",
   "id": "1212d9ef",
   "metadata": {},
   "source": [
    "# **Introduction**\n",
    "\n",
    "This notebook serves as a method of testing the creation of parameterized MuJoCo environments programatically."
   ]
  },
  {
   "cell_type": "markdown",
   "id": "add74291",
   "metadata": {},
   "source": [
    "# **Imports**\n",
    "\n",
    "This section imports the necessary packages."
   ]
  },
  {
   "cell_type": "code",
   "execution_count": 159,
   "id": "50111d64",
   "metadata": {},
   "outputs": [],
   "source": [
    "# imports:\n",
    "import mujoco as mj\n",
    "import mujoco.viewer\n",
    "import numpy as np"
   ]
  },
  {
   "cell_type": "markdown",
   "id": "d9a39681",
   "metadata": {},
   "source": [
    "# **Define Parameters**\n",
    "\n",
    "This section defines the parameters for use in the creation of the MuJoCo environment."
   ]
  },
  {
   "cell_type": "code",
   "execution_count": 160,
   "id": "77b2e0bb",
   "metadata": {},
   "outputs": [],
   "source": [
    "### MODEL SETTINGS ###\n",
    "MODEL_NAME = \"my_envrionment\"\n",
    "\n",
    "### COMPILER SETTINGS ###\n",
    "COMPILER_ANGLE = 1\n",
    "\n",
    "### OPTION SETTINGS ###\n",
    "TIMESTEP = 0.001\n",
    "INTEGRATOR = 2  # this is RK4\n",
    "GRAVITY = np.array([0, 0, -9.81], dtype = np.float32)\n",
    "\n",
    "### DEFAULT SETTINGS ###\n",
    "JOINT_DAMPING = 0.25\n",
    "\n",
    "### ASSET SETTINGS ###\n",
    "# skybox:\n",
    "SKYBOX_NAME = \"sky\"\n",
    "SKYBOX_TYPE = mj.mjtTexture.mjTEXTURE_SKYBOX\n",
    "SKYBOX_BUILTIN = mj.mjtBuiltin.mjBUILTIN_GRADIENT\n",
    "SKYBOX_RGB1 = np.array([1.0, 1.0, 1.0], dtype = np.float32)\n",
    "SKYBOX_RGB2 = np.array([0.6, 0.8, 1.0], dtype = np.float32)\n",
    "SKYBOX_WIDTH = 256\n",
    "SKYBOX_HEIGHT = 256\n",
    "\n",
    "### WORLDBODY SETTINGS ###\n",
    "# light:\n",
    "LIGHT_NAME = \"overhead_light\"\n",
    "LIGHT_DIFFUSE = [1, 1, 1]\n",
    "LIGHT_POS = [0, 0, 5]\n",
    "\n",
    "# camera:\n",
    "CAMERA_NAME = \"overhead_camera\"\n",
    "CAMERA_POS = [2, 2, 2]\n",
    "CAMERA_EULER = [45, 0, 45]\n",
    "CAMERA_FOVY = 45\n",
    "\n",
    "# ground-plane:\n",
    "GROUND_NAME = \"ground_plane\"\n",
    "GROUND_TYPE = mj.mjtGeom.mjGEOM_PLANE\n",
    "GROUND_CONTYPE = 1\n",
    "GROUND_CONAFFINITY = 1\n",
    "GROUND_POS = [0, 0, 0]\n",
    "GROUND_SIZE = [1, 1, 0.1]\n",
    "GROUND_RGBA = [0.9, 0.9, 0.9, 1]\n",
    " "
   ]
  },
  {
   "cell_type": "markdown",
   "id": "4504969f",
   "metadata": {},
   "source": [
    "# **Create Model**\n",
    "\n",
    "This section uses the defined parameters to create the model."
   ]
  },
  {
   "cell_type": "code",
   "execution_count": 161,
   "id": "2791a1ac",
   "metadata": {},
   "outputs": [],
   "source": [
    "# make the model specification:\n",
    "spec = mj.MjSpec()\n",
    "spec.modelname = MODEL_NAME\n",
    "\n",
    "# set compiler settings:\n",
    "spec.compiler.degree = COMPILER_ANGLE\n",
    "\n",
    "# set options:\n",
    "spec.option.timestep = TIMESTEP\n",
    "spec.option.gravity = GRAVITY\n",
    "spec.option.integrator = INTEGRATOR\n",
    "\n",
    "# set default settings:\n",
    "spec.default.joint.damping = JOINT_DAMPING\n",
    "\n",
    "# set the assets:\n",
    "spec.add_texture(name = SKYBOX_NAME, \n",
    "                 type = SKYBOX_TYPE, \n",
    "                 builtin = SKYBOX_BUILTIN, \n",
    "                 width = SKYBOX_WIDTH, \n",
    "                 height = SKYBOX_HEIGHT, \n",
    "                 rgb1 = SKYBOX_RGB1,\n",
    "                 rgb2 = SKYBOX_RGB2)\n",
    "\n",
    "# set the worldbody:\n",
    "spec.worldbody.add_light(name = LIGHT_NAME, diffuse = LIGHT_DIFFUSE, pos = LIGHT_POS)\n",
    "spec.worldbody.add_camera(name = CAMERA_NAME, pos = CAMERA_POS, euler = CAMERA_EULER, fovy = CAMERA_FOVY)\n",
    "spec.worldbody.add_geom(name = GROUND_NAME, \n",
    "                        type = GROUND_TYPE, \n",
    "                        contype = GROUND_CONTYPE, \n",
    "                        conaffinity = GROUND_CONAFFINITY,\n",
    "                        pos = GROUND_POS, \n",
    "                        size = GROUND_SIZE, \n",
    "                        rgba = GROUND_RGBA)\n",
    "\n",
    "# compile into model:\n",
    "model = spec.compile()\n"
   ]
  },
  {
   "cell_type": "markdown",
   "id": "8eb73b27",
   "metadata": {},
   "source": [
    "load a real model so that I can check what each value means (example \"integrator = 2\" is that RKF or something else)"
   ]
  },
  {
   "cell_type": "code",
   "execution_count": null,
   "id": "5f0b8d32",
   "metadata": {},
   "outputs": [
    {
     "name": "stdout",
     "output_type": "stream",
     "text": [
      "loaded xml file\n"
     ]
    }
   ],
   "source": [
    "# model = mj.MjModel.from_xml_path(\"assets/env_test_matt.xml\")\n",
    "# print(\"loaded xml file\")\n",
    "\n",
    "# data = mujoco.MjData(model)\n",
    "\n",
    "# # render:\n",
    "# with mujoco.viewer.launch_passive(model, data) as viewer:\n",
    "#     while viewer.is_running():\n",
    "#         mujoco.mj_step(model, data)\n",
    "#         viewer.sync()"
   ]
  }
 ],
 "metadata": {
  "kernelspec": {
   "display_name": ".venv (3.12.5)",
   "language": "python",
   "name": "python3"
  },
  "language_info": {
   "codemirror_mode": {
    "name": "ipython",
    "version": 3
   },
   "file_extension": ".py",
   "mimetype": "text/x-python",
   "name": "python",
   "nbconvert_exporter": "python",
   "pygments_lexer": "ipython3",
   "version": "3.12.5"
  }
 },
 "nbformat": 4,
 "nbformat_minor": 5
}
