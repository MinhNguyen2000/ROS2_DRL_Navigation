{
 "cells": [
  {
   "cell_type": "code",
   "execution_count": null,
   "id": "57f4ca55",
   "metadata": {},
   "outputs": [],
   "source": [
    "import mujoco\n",
    "import mujoco.viewer\n",
    "from testing_env import TestingEnv\n",
    "import numpy as np\n",
    "import os\n",
    "import matplotlib.pyplot as plt\n",
    "\n",
    "# model = mujoco.MjModel.from_xml_path(\"assets/env_test_minh.xml\")\n",
    "# data = mujoco.MjData(model)\n",
    "\n",
    "model_path = os.path.join(os.getcwd(),\"assets/env_test_minh.xml\")\n",
    "test_env = TestingEnv(xml_file=model_path)\n",
    "model, data = test_env.model, test_env.data\n",
    "\n",
    "vel_hist = []\n",
    "angle_hist = []\n",
    "\n",
    "with mujoco.viewer.launch_passive(model, data) as viewer:\n",
    "\ti = 0\n",
    "\t\n",
    "\t# Select the camera\n",
    "\tCAMERA_NAME = \"camera\"\n",
    "\tviewer.cam.type = mujoco.mjtCamera.mjCAMERA_FIXED\n",
    "\tviewer.cam.fixedcamid = model.camera(CAMERA_NAME).id\n",
    "\n",
    "\t# enable viewer options:\n",
    "\tviewer.opt.frame = mujoco.mjtFrame.mjFRAME_BODY\n",
    "\tviewer.opt.flags[mujoco.mjtVisFlag.mjVIS_JOINT] = True\n",
    "\n",
    "\twhile viewer.is_running():\n",
    "\t\ti+=1\n",
    "\n",
    "\t\t# --- control simulation\n",
    "\t\tctrl = np.zeros(model.nu)\n",
    "\t\tctrl[0] = 0.05\n",
    "\t\t# ctrl[1] = 0.05\n",
    "\t\t# ctrl[2] = np.sin(i/10000)\n",
    "\t\tctrl[2] = 0.005\n",
    "\n",
    "\t\t# --- simulation\n",
    "\t\t# mujoco.mj_step(model, data)\n",
    "\t\ttest_env.step(ctrl)\n",
    "\t\tviewer.sync()\n",
    "\t\tif (i % 100 == 0):\n",
    "\t\t\t# print(test_env.rot_matrix)\n",
    "\t\t\tagent_pose, goal_pose = test_env._get_obs()\n",
    "\t\t\tx, y, theta, x_dot, y_dot, theta_dot = agent_pose\n",
    "\t\t\t# print(f\"Current robot angle at time {i:7d}: {theta/np.pi*180:6.2f}\", end=\"\\r\")\n",
    "\t\t\tprint(f\"Time {i:10d} - Robot position ({x:5.2f},{y:5.2f}) | Goal position {goal_pose}\")\n",
    "\t\t\tlin_vel = np.sqrt(x_dot**2 + y_dot**2)*100\n",
    "\t\t\tangle_hist.append(theta)\n",
    "\t\t\tvel_hist.append(lin_vel)\n",
    "\t\t\t# print(f\"Current robot linear velocities at time {i:7d}: {lin_vel:10.5}\", end=\"\\r\")"
   ]
  },
  {
   "cell_type": "code",
   "execution_count": null,
   "id": "31cd5114",
   "metadata": {},
   "outputs": [],
   "source": [
    "goal_id = model.body(\"goal\").id\n",
    "pos = data.xpos[goal_id]\n",
    "pos "
   ]
  },
  {
   "cell_type": "code",
   "execution_count": null,
   "id": "d7c2f4c1",
   "metadata": {},
   "outputs": [],
   "source": [
    "figure = plt.figure(figsize=(16,9))\n",
    "plt.plot(angle_hist, vel_hist)"
   ]
  },
  {
   "cell_type": "code",
   "execution_count": null,
   "id": "354ccea6",
   "metadata": {},
   "outputs": [],
   "source": [
    "theta_range = np.linspace(0, 2*np.pi, num=100)\n",
    "action = np.array([1, 0, 0], dtype=np.float32)\n",
    "action_mag_hist = np.zeros(len(theta_range))\n",
    "\n",
    "for idx, theta in enumerate(theta_range):\n",
    "    rot_matrix = np.array([[np.cos(theta), -np.sin(theta)],\n",
    "                        [np.sin(theta), np.cos(theta)]], dtype=np.float32)\n",
    "    action_transformed = action\n",
    "    action_transformed[:2] = rot_matrix @ action[:2]\n",
    "    print(action_transformed)\n",
    "    action_mag_hist[idx] = np.linalg.norm(action_transformed[:2])\n",
    "\n",
    "\n"
   ]
  },
  {
   "cell_type": "code",
   "execution_count": null,
   "id": "70722f04",
   "metadata": {},
   "outputs": [],
   "source": [
    "action_mag_hist"
   ]
  },
  {
   "cell_type": "code",
   "execution_count": null,
   "id": "57988b24",
   "metadata": {},
   "outputs": [],
   "source": []
  }
 ],
 "metadata": {
  "kernelspec": {
   "display_name": "Python 3",
   "language": "python",
   "name": "python3"
  },
  "language_info": {
   "codemirror_mode": {
    "name": "ipython",
    "version": 3
   },
   "file_extension": ".py",
   "mimetype": "text/x-python",
   "name": "python",
   "nbconvert_exporter": "python",
   "pygments_lexer": "ipython3",
   "version": "3.10.12"
  }
 },
 "nbformat": 4,
 "nbformat_minor": 5
}
