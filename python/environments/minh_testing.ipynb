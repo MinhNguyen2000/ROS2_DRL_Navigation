{
 "cells": [
  {
   "cell_type": "code",
   "execution_count": null,
   "id": "57f4ca55",
   "metadata": {},
   "outputs": [],
   "source": [
    "import mujoco\n",
    "import mujoco.viewer\n",
    "from testing_env import TestingEnv\n",
    "import numpy as np\n",
    "import os\n",
    "\n",
    "# model = mujoco.MjModel.from_xml_path(\"assets/env_test_minh.xml\")\n",
    "# data = mujoco.MjData(model)\n",
    "\n",
    "model_path = os.path.join(os.getcwd(),\"assets/env_test_minh.xml\")\n",
    "test_env = TestingEnv(xml_file=model_path)\n",
    "model, data = test_env.model, test_env.data\n",
    "\n",
    "with mujoco.viewer.launch_passive(model, data) as viewer:\n",
    "\ti = 0\n",
    "\twhile viewer.is_running():\n",
    "\t\ti+=1\n",
    "\n",
    "\t\t# --- control simulation\n",
    "\t\tctrl = np.zeros(model.nu)\n",
    "\t\tctrl[0] = 1\n",
    "\t\tctrl[2] = np.sin(i/10000)\n",
    "\t\tdata.ctrl[:] = ctrl \n",
    "\n",
    "\t\t# --- simulation\n",
    "\t\t# mujoco.mj_step(model, data)\n",
    "\t\ttest_env.step(data.ctrl)\n",
    "\t\tviewer.sync()\n",
    "\t\tif (i % 100 == 0):\n",
    "\t\t\tx, y, theta, x_dot, y_dot, theta_dot = test_env._get_obs()\n",
    "\t\t\tprint(f\"Current robot angle at time {i:7d}: {theta/np.pi*180:6.2f}\", end=\"\\r\")"
   ]
  },
  {
   "cell_type": "code",
   "execution_count": null,
   "id": "354ccea6",
   "metadata": {},
   "outputs": [],
   "source": [
    "theta = np.pi/2\n",
    "action = np.array([1, 0, 0])\n",
    "\n",
    "rot_matrix = np.array([[np.cos(theta), -np.sin(theta)],\n",
    "                       [np.sin(theta), np.cos(theta)]])\n",
    "action[:2] = rot_matrix @ action[:2]\n",
    "action"
   ]
  },
  {
   "cell_type": "code",
   "execution_count": null,
   "id": "70722f04",
   "metadata": {},
   "outputs": [],
   "source": [
    "type(rot_matrix)"
   ]
  },
  {
   "cell_type": "code",
   "execution_count": null,
   "id": "57988b24",
   "metadata": {},
   "outputs": [],
   "source": []
  }
 ],
 "metadata": {
  "kernelspec": {
   "display_name": "Python 3",
   "language": "python",
   "name": "python3"
  },
  "language_info": {
   "codemirror_mode": {
    "name": "ipython",
    "version": 3
   },
   "file_extension": ".py",
   "mimetype": "text/x-python",
   "name": "python",
   "nbconvert_exporter": "python",
   "pygments_lexer": "ipython3",
   "version": "3.10.12"
  }
 },
 "nbformat": 4,
 "nbformat_minor": 5
}
