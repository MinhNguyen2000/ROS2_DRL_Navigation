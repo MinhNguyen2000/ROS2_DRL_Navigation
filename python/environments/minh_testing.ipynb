{
 "cells": [
  {
   "cell_type": "code",
   "execution_count": null,
   "id": "57f4ca55",
   "metadata": {},
   "outputs": [],
   "source": [
    "import mujoco\n",
    "import mujoco.viewer\n",
    "from nav2d import Nav2D\n",
    "import numpy as np\n",
    "import os\n",
    "import matplotlib.pyplot as plt\n",
    "\n",
    "\n",
    "model_json_path = os.path.join(os.getcwd(),\"environment_params.json\")\n",
    "test_env = Nav2D(json_file= model_json_path)\n",
    "model, data = test_env.model, test_env.data\n",
    "\n",
    "vel_hist = []\n",
    "avel_hist = []\n",
    "angle_hist = []"
   ]
  },
  {
   "cell_type": "markdown",
   "id": "3ec0488b",
   "metadata": {},
   "source": [
    "Visualize the rendering using mujoco.viewer passive launch"
   ]
  },
  {
   "cell_type": "code",
   "execution_count": null,
   "id": "5d7e103e",
   "metadata": {},
   "outputs": [],
   "source": [
    "with mujoco.viewer.launch_passive(model, data) as viewer:\n",
    "\ti = 0\n",
    "\t\n",
    "\t# # Select the camera\n",
    "\t# CAMERA_NAME = \"camera\"\n",
    "\t# viewer.cam.type = mujoco.mjtCamera.mjCAMERA_FIXED\n",
    "\t# viewer.cam.fixedcamid = model.camera(CAMERA_NAME).id\n",
    "\n",
    "\t# enable viewer options:\n",
    "\tviewer.opt.frame = mujoco.mjtFrame.mjFRAME_BODY\n",
    "\tviewer.opt.flags[mujoco.mjtVisFlag.mjVIS_JOINT] = True\n",
    "\n",
    "\twhile viewer.is_running():\n",
    "\t\ti+=1\n",
    "\t\t\n",
    "\t\t# --- control simulation\n",
    "\t\tctrl = np.zeros(test_env.model.nv)\n",
    "\t\tctrl[0] = 0.05\n",
    "\t\tctrl[2] = 0.05\n",
    "\n",
    "\t\t# --- simulation\n",
    "\t\tnobs, rew, term = test_env.step(ctrl)\n",
    "\t\t# print(test_env.data.qvel)\n",
    "\t\tviewer.sync()\n",
    "\t\t\n",
    "\t\tif (i % 100 == 0):\n",
    "\t\t\t# print(nobs[2])\n",
    "\t\t\tagent_pose, goal_pose, lidar_obs = test_env._get_obs()\n",
    "\t\t\tprint(rew, min(lidar_obs))\n",
    "\t\t\t# print(agent_pose[0:3], goal_pose)\n",
    "\n",
    "\t\t\t# ============= agent control debug =============\n",
    "\t\t\t# x, y, theta, x_dot, y_dot, theta_dot = agent_pose\n",
    "\t\t\t# print(f\"theta_{i:7d}: {agent_pose[2]/np.pi*180:6.3f} deg | theta_dot_{i:7d}: {agent_pose[5]/np.pi*180:6.2f} deg/s\", end=\"\\r\")\n",
    "\t\t\t# print(f\"Time {i:10d} - Robot position ({x:5.3f},{y:5.3f}) | Goal position {goal_pose}\")\n",
    "\t\t\t# lin_vel = np.sqrt(x_dot**2 + y_dot**2)\n",
    "\n",
    "\t\t\t# angle_hist.append(theta)\n",
    "\t\t\t# vel_hist.append(lin_vel)\n",
    "\t\t\t# avel_hist.append(theta_dot)\n",
    "\t\t\t# print(f\"Current robot linear velocities at time {i:7d}: {lin_vel:10.5}\", end=\"\\r\")\n",
    "\n",
    "\t\t\t# ============= goal pose debug =============\n",
    "\t\t\t# print(goal_pose)\n",
    "\n",
    "\t\t\t# ============= LIDAR obs debug =============\n",
    "\t\t\t# print(lidar_obs)\n",
    "\n",
    "\t\t\t# ============= termination debug =============\n",
    "\t\t\tif term:\n",
    "\t\t\t\tprint(f\"Termination condition reached at {i}\")\n",
    "\t\t\t\tctrl[0] = 0.01\n",
    "\n",
    "\t\t\t\t# pause the viewer\n",
    "\t\t\t\twhile viewer.is_running():\n",
    "\t\t\t\t\tviewer.sync()\n",
    "\t\t\t\tbreak"
   ]
  },
  {
   "cell_type": "code",
   "execution_count": null,
   "id": "d7c2f4c1",
   "metadata": {},
   "outputs": [],
   "source": [
    "figure = plt.figure(figsize=(32,9))\n",
    "plt.plot(vel_hist)\n",
    "\n",
    "figure = plt.figure(figsize=(32,9))\n",
    "plt.plot(avel_hist)\n",
    "\n",
    "# figure = plt.figure(figsize=(32,9))\n",
    "# ctrl_x, ctrl_y, ctrl_z = zip(*ctrl_hist)\n",
    "# linear_ctrl_norm = np.sqrt(np.square(ctrl_x) + np.square(ctrl_y))\n",
    "# plt.plot(np.round(linear_ctrl_norm,4))\n",
    "\n",
    "figure = plt.figure(figsize=(32,9))\n",
    "plt.plot(angle_hist)"
   ]
  },
  {
   "cell_type": "code",
   "execution_count": null,
   "id": "760fd90b",
   "metadata": {},
   "outputs": [],
   "source": [
    "figure = plt.figure(figsize=(32,9))\n",
    "plt.plot(d_goal_hist)"
   ]
  },
  {
   "cell_type": "code",
   "execution_count": null,
   "id": "354ccea6",
   "metadata": {},
   "outputs": [],
   "source": [
    "theta_range = np.linspace(0, 2*np.pi, num=100)\n",
    "action = np.array([0.05, 0, 0], dtype=np.float32)\n",
    "action_mag_hist = np.zeros(len(theta_range))\n",
    "\n",
    "for idx, theta in enumerate(theta_range):\n",
    "    rot_matrix = np.array([[np.cos(theta), -np.sin(theta)],\n",
    "                        [np.sin(theta), np.cos(theta)]], dtype=np.float32)\n",
    "    action_transformed = action\n",
    "    action_transformed[:2] = rot_matrix @ action[:2]\n",
    "    # print(action_transformed)\n",
    "    action_mag_hist[idx] = np.linalg.norm(action_transformed[:2])\n",
    "\n",
    "action_mag_hist"
   ]
  },
  {
   "cell_type": "code",
   "execution_count": null,
   "id": "57988b24",
   "metadata": {},
   "outputs": [],
   "source": []
  }
 ],
 "metadata": {
  "kernelspec": {
   "display_name": "Python 3",
   "language": "python",
   "name": "python3"
  },
  "language_info": {
   "codemirror_mode": {
    "name": "ipython",
    "version": 3
   },
   "file_extension": ".py",
   "mimetype": "text/x-python",
   "name": "python",
   "nbconvert_exporter": "python",
   "pygments_lexer": "ipython3",
   "version": "3.10.12"
  }
 },
 "nbformat": 4,
 "nbformat_minor": 5
}
