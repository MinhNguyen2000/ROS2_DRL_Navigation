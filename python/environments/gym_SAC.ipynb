{
 "cells": [
  {
   "cell_type": "markdown",
   "id": "537adf07",
   "metadata": {},
   "source": [
    "# **Introduction**\n",
    "\n",
    "This notebook serves as an implementation of Soft Actor-Critic (SAC) on the custom-developed 2D navigation environment, titled ``Nav2D-v0``. The goal of this implementation is to quantify the performance of SAC in a simple 2D navigational  task, such that it can be used for incremental learning within subsequent environments."
   ]
  },
  {
   "cell_type": "markdown",
   "id": "d0d678bf",
   "metadata": {},
   "source": [
    "# **Imports**\n",
    "\n",
    "This section imports the necessary packages for this implementation."
   ]
  },
  {
   "cell_type": "code",
   "execution_count": 8,
   "id": "c8af0b83",
   "metadata": {},
   "outputs": [],
   "source": [
    "# import gymnasium related packages:\n",
    "import gymnasium as gym\n",
    "from gymnasium.utils.env_checker import check_env\n",
    "from gymnasium.wrappers import RescaleAction\n",
    "\n",
    "# import custom environments and wrappers:\n",
    "import nav2d\n",
    "\n",
    "# import stablebaselines stuff:\n",
    "from stable_baselines3 import SAC\n",
    "from stable_baselines3.common.env_util import Monitor, make_vec_env\n",
    "from stable_baselines3.common.vec_env import DummyVecEnv\n",
    "\n",
    "# other necessary imports:\n",
    "from tqdm import tqdm\n",
    "import pyautogui\n",
    "import numpy as np\n",
    "import pandas as pd\n",
    "import os"
   ]
  },
  {
   "cell_type": "markdown",
   "id": "758041ba",
   "metadata": {},
   "source": [
    "# **Environment Definition and Hyperparameters**\n",
    "\n",
    "This section defines and verifies the environment, defines the hyperparameters for the model, and creates a model."
   ]
  },
  {
   "cell_type": "code",
   "execution_count": 9,
   "id": "f56d3d39",
   "metadata": {},
   "outputs": [
    {
     "name": "stdout",
     "output_type": "stream",
     "text": [
      "Environment has the following issues: 9.33 | diff: 26.56 | rew_head: -0.15 | rew_dist: -0.33 | total: -0.87                                              \n",
      "The `.np_random` is not properly been updated after step.\n"
     ]
    }
   ],
   "source": [
    "# make the environment:\n",
    "env = gym.make(\"Nav2D-v0\")\n",
    "\n",
    "# check the environment:\n",
    "try: \n",
    "    check_env(env.unwrapped)\n",
    "    print(f\"Environment passes all checks!\")\n",
    "except Exception as e:\n",
    "    print(f\"Environment has the following issues: \\n{e}\")"
   ]
  },
  {
   "cell_type": "markdown",
   "id": "ca9ec2f6",
   "metadata": {},
   "source": [
    "Evaluation function:"
   ]
  },
  {
   "cell_type": "code",
   "execution_count": 10,
   "id": "4d8b1397",
   "metadata": {},
   "outputs": [],
   "source": [
    "# this is the evaluation function:\n",
    "def eval(env: gym.Env, \n",
    "         num_evals: int, \n",
    "         model):\n",
    "    # reward list:\n",
    "    eval_rew_hist = []\n",
    "\n",
    "    # for each episode in the num_evals:\n",
    "    for _ in range(num_evals):\n",
    "        obs, _ = env.reset()\n",
    "        done = False\n",
    "\n",
    "        # initialize episodic reward:\n",
    "        eval_rew = 0\n",
    "\n",
    "        # while False:\n",
    "        while not done:\n",
    "            # get action and step:\n",
    "            action, _ = model.predict(obs, deterministic = True)\n",
    "            nobs, reward, term, trunc, _ = env.step(action)\n",
    "            done = term or trunc\n",
    "            \n",
    "            # advance reward:\n",
    "            eval_rew += reward\n",
    "\n",
    "            # advance observation, reset if not:\n",
    "            obs = nobs if not done else env.reset()\n",
    "    \n",
    "        # append:\n",
    "        eval_rew_hist.append(eval_rew)\n",
    "\n",
    "    return np.mean(eval_rew_hist).round(3)"
   ]
  },
  {
   "cell_type": "markdown",
   "id": "68d0b3c3",
   "metadata": {},
   "source": [
    "Define hyperparameters:"
   ]
  },
  {
   "cell_type": "code",
   "execution_count": 11,
   "id": "2e2d4b26",
   "metadata": {},
   "outputs": [],
   "source": [
    "# hyperparameters:\n",
    "policy = \"MlpPolicy\"\n",
    "gamma = 0.99\n",
    "learning_rate = 3e-4\n",
    "buffer_size = int(1e6)\n",
    "batch_size = 64\n",
    "tau = 5e-3\n",
    "ent_coef = \"auto_0.1\"\n",
    "train_freq = 1\n",
    "learning_starts = int(0)\n",
    "target_update_interval = 1\n",
    "gradient_steps = 4\n",
    "target_entropy = \"auto\"\n",
    "action_noise = None\n",
    "verbose = 0\n",
    "\n",
    "# vectorize or nah:\n",
    "vectorize = True\n",
    "n_envs = 16\n",
    "render_mode = \"human\""
   ]
  },
  {
   "cell_type": "markdown",
   "id": "01f35158",
   "metadata": {},
   "source": [
    "Make envs:"
   ]
  },
  {
   "cell_type": "code",
   "execution_count": 12,
   "id": "65cecac9",
   "metadata": {},
   "outputs": [],
   "source": [
    "# make environment based on whether to vectorize or not:\n",
    "env = gym.make(\"Nav2D-v0\", max_episode_steps = 1000, render_mode = render_mode) if not vectorize else make_vec_env(\"Nav2D-v0\", n_envs = n_envs, vec_env_cls = DummyVecEnv)\n",
    "\n",
    "# evaluation environment:\n",
    "eval_env = gym.make(\"Nav2D-v0\", max_episode_steps = 1000, render_mode = \"rgb_array\")"
   ]
  },
  {
   "cell_type": "markdown",
   "id": "42f4f4f9",
   "metadata": {},
   "source": [
    "Create model:"
   ]
  },
  {
   "cell_type": "code",
   "execution_count": 13,
   "id": "515351ee",
   "metadata": {},
   "outputs": [
    {
     "name": "stdout",
     "output_type": "stream",
     "text": [
      "<class 'stable_baselines3.sac.sac.SAC'>\n"
     ]
    }
   ],
   "source": [
    "# model creation using SB3:\n",
    "model = SAC(policy = policy, \n",
    "            env = env,\n",
    "            learning_rate = learning_rate,\n",
    "            buffer_size = buffer_size,\n",
    "            batch_size = batch_size,\n",
    "            tau = tau,\n",
    "            ent_coef = ent_coef,\n",
    "            train_freq = train_freq,\n",
    "            learning_starts = learning_starts,\n",
    "            target_update_interval = target_update_interval,\n",
    "            gradient_steps = gradient_steps,\n",
    "            target_entropy = target_entropy,\n",
    "            action_noise = action_noise, \n",
    "            verbose = verbose)\n",
    "\n",
    "print(type(model))"
   ]
  },
  {
   "cell_type": "markdown",
   "id": "55fc19b2",
   "metadata": {},
   "source": [
    "# **Train the model**\n",
    "\n",
    "Using the instantiated SB3 model, train on the ``Nav2D-v0`` environment."
   ]
  },
  {
   "cell_type": "code",
   "execution_count": null,
   "id": "2f494140",
   "metadata": {},
   "outputs": [
    {
     "name": "stderr",
     "output_type": "stream",
     "text": [
      "training progress:   0%|\u001b[38;2;51;255;0m                                                    \u001b[0m| 0/100 [00:00<?, ?it/s]\u001b[0m"
     ]
    },
    {
     "name": "stdout",
     "output_type": "stream",
     "text": [
      "ep: 1 | required: 60.33 | current: 104.87 | diff: 44.54 | rew_head: -0.25 | rew_dist: -0.18 | total: -0.92                                               \r"
     ]
    },
    {
     "name": "stderr",
     "output_type": "stream",
     "text": [
      "c:\\Users\\mtidd2\\Desktop\\ROS2_DRL_Navigation\\.venv\\Lib\\site-packages\\gymnasium\\utils\\passive_env_checker.py:158: UserWarning: \u001b[33mWARN: The obs returned by the `step()` method is not within the observation space.\u001b[0m\n",
      "  logger.warn(f\"{pre} is not within the observation space.\")\n"
     ]
    },
    {
     "name": "stdout",
     "output_type": "stream",
     "text": [
      "ep: 19 | required: 355.62 | current: 12.21 | diff: 16.59 | rew_head: -0.09 | rew_dist: -0.21 | total: -0.64                                               \r"
     ]
    },
    {
     "name": "stderr",
     "output_type": "stream",
     "text": [
      "training progress:   1%|\u001b[38;2;51;255;0m▍                                         \u001b[0m| 1/100 [00:54<1:29:12, 54.07s/it]\u001b[0m"
     ]
    },
    {
     "name": "stdout",
     "output_type": "stream",
     "text": [
      "ep: 39 | required: 229.20 | current: 221.15 | diff: 8.04 | rew_head: -0.04 | rew_dist: -0.17 | total: -0.51                                               \r"
     ]
    },
    {
     "name": "stderr",
     "output_type": "stream",
     "text": [
      "training progress:   2%|\u001b[38;2;51;255;0m▊                                         \u001b[0m| 2/100 [01:53<1:33:00, 56.95s/it]\u001b[0m"
     ]
    },
    {
     "name": "stdout",
     "output_type": "stream",
     "text": [
      "ep: 59 | required: 220.96 | current: 216.34 | diff: 4.62 | rew_head: -0.03 | rew_dist: -0.23 | total: -0.53                                               \r"
     ]
    },
    {
     "name": "stderr",
     "output_type": "stream",
     "text": [
      "training progress:   3%|\u001b[38;2;51;255;0m█▎                                        \u001b[0m| 3/100 [02:47<1:29:53, 55.60s/it]\u001b[0m"
     ]
    },
    {
     "name": "stdout",
     "output_type": "stream",
     "text": [
      "ep: 79 | required: 351.14 | current: 6.22 | diff: 15.08 | rew_head: -0.08 | rew_dist: -0.17 | total: -0.59                                                \r"
     ]
    },
    {
     "name": "stderr",
     "output_type": "stream",
     "text": [
      "training progress:   4%|\u001b[38;2;51;255;0m█▋                                        \u001b[0m| 4/100 [03:39<1:26:59, 54.37s/it]\u001b[0m"
     ]
    },
    {
     "name": "stdout",
     "output_type": "stream",
     "text": [
      "ep: 99 | required: 279.34 | current: 316.48 | diff: 37.15 | rew_head: -0.21 | rew_dist: -0.02 | total: -0.69                                              \r"
     ]
    },
    {
     "name": "stderr",
     "output_type": "stream",
     "text": [
      "training progress:   5%|\u001b[38;2;51;255;0m██                                        \u001b[0m| 5/100 [04:32<1:25:21, 53.91s/it]\u001b[0m"
     ]
    },
    {
     "name": "stdout",
     "output_type": "stream",
     "text": [
      "ep: 119 | required: 275.86 | current: 261.29 | diff: 14.57 | rew_head: -0.08 | rew_dist: -0.18 | total: -0.59                                              \r"
     ]
    },
    {
     "name": "stderr",
     "output_type": "stream",
     "text": [
      "training progress:   6%|\u001b[38;2;51;255;0m██▌                                       \u001b[0m| 6/100 [05:27<1:24:45, 54.11s/it]\u001b[0m"
     ]
    },
    {
     "name": "stdout",
     "output_type": "stream",
     "text": [
      "ep: 139 | required: 230.54 | current: 235.80 | diff: 5.26 | rew_head: -0.03 | rew_dist: -0.21 | total: -0.51                                               \r"
     ]
    },
    {
     "name": "stderr",
     "output_type": "stream",
     "text": [
      "training progress:   7%|\u001b[38;2;51;255;0m██▉                                       \u001b[0m| 7/100 [06:22<1:24:41, 54.64s/it]\u001b[0m"
     ]
    },
    {
     "name": "stdout",
     "output_type": "stream",
     "text": [
      "ep: 159 | required: 276.19 | current: 16.30 | diff: 100.11 | rew_head: -0.56 | rew_dist: -0.03 | total: -1.39                                              \r"
     ]
    },
    {
     "name": "stderr",
     "output_type": "stream",
     "text": [
      "training progress:   8%|\u001b[38;2;51;255;0m███▎                                      \u001b[0m| 8/100 [07:18<1:24:31, 55.12s/it]\u001b[0m"
     ]
    },
    {
     "name": "stdout",
     "output_type": "stream",
     "text": [
      "ep: 179 | required: 234.23 | current: 18.89 | diff: 144.66 | rew_head: -0.80 | rew_dist: -0.13 | total: -1.99                                              \r"
     ]
    },
    {
     "name": "stderr",
     "output_type": "stream",
     "text": [
      "training progress:   9%|\u001b[38;2;51;255;0m███▊                                      \u001b[0m| 9/100 [08:17<1:25:21, 56.28s/it]\u001b[0m"
     ]
    },
    {
     "name": "stdout",
     "output_type": "stream",
     "text": [
      "ep: 199 | required: 218.49 | current: 206.65 | diff: 11.84 | rew_head: -0.07 | rew_dist: -0.04 | total: -0.42                                             \r"
     ]
    },
    {
     "name": "stderr",
     "output_type": "stream",
     "text": [
      "training progress:  10%|\u001b[38;2;51;255;0m████                                     \u001b[0m| 10/100 [09:16<1:25:19, 56.89s/it]\u001b[0m"
     ]
    },
    {
     "name": "stdout",
     "output_type": "stream",
     "text": [
      "ep: 219 | required: 239.85 | current: 275.82 | diff: 35.97 | rew_head: -0.20 | rew_dist: -0.16 | total: -0.81                                              \r"
     ]
    },
    {
     "name": "stderr",
     "output_type": "stream",
     "text": [
      "training progress:  11%|\u001b[38;2;51;255;0m████▌                                    \u001b[0m| 11/100 [10:15<1:25:23, 57.57s/it]\u001b[0m"
     ]
    },
    {
     "name": "stdout",
     "output_type": "stream",
     "text": [
      "ep: 239 | required: 212.99 | current: 221.68 | diff: 8.69 | rew_head: -0.05 | rew_dist: -0.31 | total: -0.65                                               \r"
     ]
    },
    {
     "name": "stderr",
     "output_type": "stream",
     "text": [
      "training progress:  12%|\u001b[38;2;51;255;0m████▉                                    \u001b[0m| 12/100 [11:14<1:25:21, 58.20s/it]\u001b[0m"
     ]
    },
    {
     "name": "stdout",
     "output_type": "stream",
     "text": [
      "ep: 259 | required: 8.02 | current: 284.69 | diff: 83.33 | rew_head: -0.46 | rew_dist: -0.46 | total: -1.64                                                \r"
     ]
    },
    {
     "name": "stderr",
     "output_type": "stream",
     "text": [
      "training progress:  13%|\u001b[38;2;51;255;0m█████▎                                   \u001b[0m| 13/100 [12:14<1:25:05, 58.68s/it]\u001b[0m"
     ]
    },
    {
     "name": "stdout",
     "output_type": "stream",
     "text": [
      "ep: 279 | required: 273.23 | current: 274.03 | diff: 0.80 | rew_head: -0.00 | rew_dist: -0.64 | total: -0.90                                               \r"
     ]
    },
    {
     "name": "stderr",
     "output_type": "stream",
     "text": [
      "training progress:  14%|\u001b[38;2;51;255;0m█████▋                                   \u001b[0m| 14/100 [13:13<1:24:07, 58.69s/it]\u001b[0m"
     ]
    },
    {
     "name": "stdout",
     "output_type": "stream",
     "text": [
      "ep: 299 | required: 157.40 | current: 220.01 | diff: 62.61 | rew_head: -0.35 | rew_dist: -0.29 | total: -1.24                                              \r"
     ]
    },
    {
     "name": "stderr",
     "output_type": "stream",
     "text": [
      "training progress:  15%|\u001b[38;2;51;255;0m██████▏                                  \u001b[0m| 15/100 [14:11<1:23:07, 58.68s/it]\u001b[0m"
     ]
    },
    {
     "name": "stdout",
     "output_type": "stream",
     "text": [
      "ep: 319 | required: 48.49 | current: 28.67 | diff: 19.82 | rew_head: -0.11 | rew_dist: -0.45 | total: -0.92                                                \r"
     ]
    },
    {
     "name": "stderr",
     "output_type": "stream",
     "text": [
      "training progress:  16%|\u001b[38;2;51;255;0m██████▌                                  \u001b[0m| 16/100 [15:11<1:22:22, 58.84s/it]\u001b[0m"
     ]
    },
    {
     "name": "stdout",
     "output_type": "stream",
     "text": [
      "ep: 339 | required: 10.36 | current: 103.31 | diff: 92.95 | rew_head: -0.52 | rew_dist: -0.28 | total: -1.56                                               \r"
     ]
    },
    {
     "name": "stderr",
     "output_type": "stream",
     "text": [
      "training progress:  17%|\u001b[38;2;51;255;0m██████▉                                  \u001b[0m| 17/100 [16:11<1:21:52, 59.19s/it]\u001b[0m"
     ]
    },
    {
     "name": "stdout",
     "output_type": "stream",
     "text": [
      "ep: 357 | required: 345.17 | current: 3.49 | diff: 18.33 | rew_head: -0.10 | rew_dist: -0.24 | total: -0.69                                                \r"
     ]
    },
    {
     "name": "stderr",
     "output_type": "stream",
     "text": [
      "training progress:  18%|\u001b[38;2;51;255;0m███████▍                                 \u001b[0m| 18/100 [17:09<1:20:36, 58.99s/it]\u001b[0m"
     ]
    },
    {
     "name": "stdout",
     "output_type": "stream",
     "text": [
      "ep: 379 | required: 38.49 | current: 46.00 | diff: 7.51 | rew_head: -0.04 | rew_dist: -0.35 | total: -0.68                                                 \r"
     ]
    },
    {
     "name": "stderr",
     "output_type": "stream",
     "text": [
      "training progress:  19%|\u001b[38;2;51;255;0m███████▊                                 \u001b[0m| 19/100 [18:08<1:19:33, 58.93s/it]\u001b[0m"
     ]
    },
    {
     "name": "stdout",
     "output_type": "stream",
     "text": [
      "ep: 399 | required: 53.63 | current: 352.59 | diff: 61.04 | rew_head: -0.34 | rew_dist: -0.11 | total: -1.04                                               \r"
     ]
    },
    {
     "name": "stderr",
     "output_type": "stream",
     "text": [
      "training progress:  20%|\u001b[38;2;51;255;0m████████▏                                \u001b[0m| 20/100 [19:07<1:18:27, 58.85s/it]\u001b[0m"
     ]
    },
    {
     "name": "stdout",
     "output_type": "stream",
     "text": [
      "ep: 419 | required: 164.14 | current: 166.75 | diff: 2.61 | rew_head: -0.01 | rew_dist: -0.31 | total: -0.59                                               \r"
     ]
    },
    {
     "name": "stderr",
     "output_type": "stream",
     "text": [
      "training progress:  21%|\u001b[38;2;51;255;0m████████▌                                \u001b[0m| 21/100 [20:05<1:17:24, 58.79s/it]\u001b[0m"
     ]
    },
    {
     "name": "stdout",
     "output_type": "stream",
     "text": [
      "ep: 439 | required: 41.17 | current: 27.39 | diff: 13.78 | rew_head: -0.08 | rew_dist: -0.20 | total: -0.60                                                \r"
     ]
    },
    {
     "name": "stderr",
     "output_type": "stream",
     "text": [
      "training progress:  22%|\u001b[38;2;51;255;0m█████████                                \u001b[0m| 22/100 [21:06<1:17:15, 59.42s/it]\u001b[0m"
     ]
    },
    {
     "name": "stdout",
     "output_type": "stream",
     "text": [
      "ep: 459 | required: 297.43 | current: 296.57 | diff: 0.85 | rew_head: -0.00 | rew_dist: -0.35 | total: -0.61                                               \r"
     ]
    },
    {
     "name": "stderr",
     "output_type": "stream",
     "text": [
      "training progress:  23%|\u001b[38;2;51;255;0m█████████▍                               \u001b[0m| 23/100 [22:05<1:16:12, 59.38s/it]\u001b[0m"
     ]
    },
    {
     "name": "stdout",
     "output_type": "stream",
     "text": [
      "ep: 479 | required: 211.09 | current: 119.22 | diff: 91.87 | rew_head: -0.51 | rew_dist: -0.26 | total: -1.53                                              \r"
     ]
    },
    {
     "name": "stderr",
     "output_type": "stream",
     "text": [
      "training progress:  24%|\u001b[38;2;51;255;0m█████████▊                               \u001b[0m| 24/100 [23:04<1:14:59, 59.20s/it]\u001b[0m"
     ]
    },
    {
     "name": "stdout",
     "output_type": "stream",
     "text": [
      "ep: 499 | required: 50.69 | current: 142.54 | diff: 91.85 | rew_head: -0.51 | rew_dist: -0.51 | total: -1.78                                               \r"
     ]
    },
    {
     "name": "stderr",
     "output_type": "stream",
     "text": [
      "training progress:  25%|\u001b[38;2;51;255;0m██████████▎                              \u001b[0m| 25/100 [24:02<1:13:31, 58.82s/it]\u001b[0m"
     ]
    },
    {
     "name": "stdout",
     "output_type": "stream",
     "text": [
      "ep: 519 | required: 320.97 | current: 345.94 | diff: 24.98 | rew_head: -0.14 | rew_dist: -0.54 | total: -1.07                                              \r"
     ]
    },
    {
     "name": "stderr",
     "output_type": "stream",
     "text": [
      "training progress:  26%|\u001b[38;2;51;255;0m██████████▋                              \u001b[0m| 26/100 [25:00<1:12:03, 58.43s/it]\u001b[0m"
     ]
    },
    {
     "name": "stdout",
     "output_type": "stream",
     "text": [
      "ep: 539 | required: 157.02 | current: 97.60 | diff: 59.43 | rew_head: -0.33 | rew_dist: -0.35 | total: -1.26                                               \r"
     ]
    },
    {
     "name": "stderr",
     "output_type": "stream",
     "text": [
      "training progress:  27%|\u001b[38;2;51;255;0m███████████                              \u001b[0m| 27/100 [25:58<1:11:07, 58.46s/it]\u001b[0m"
     ]
    },
    {
     "name": "stdout",
     "output_type": "stream",
     "text": [
      "ep: 557 | required: 15.38 | current: 121.20 | diff: 105.82 | rew_head: -0.59 | rew_dist: -0.41 | total: -1.84                                              \r"
     ]
    },
    {
     "name": "stderr",
     "output_type": "stream",
     "text": [
      "training progress:  28%|\u001b[38;2;51;255;0m███████████▍                             \u001b[0m| 28/100 [26:56<1:09:51, 58.21s/it]\u001b[0m"
     ]
    },
    {
     "name": "stdout",
     "output_type": "stream",
     "text": [
      "ep: 579 | required: 217.70 | current: 163.15 | diff: 54.55 | rew_head: -0.30 | rew_dist: -0.29 | total: -1.14                                              \r"
     ]
    },
    {
     "name": "stderr",
     "output_type": "stream",
     "text": [
      "training progress:  29%|\u001b[38;2;51;255;0m███████████▉                             \u001b[0m| 29/100 [27:52<1:08:16, 57.69s/it]\u001b[0m"
     ]
    },
    {
     "name": "stdout",
     "output_type": "stream",
     "text": [
      "ep: 599 | required: 113.17 | current: 39.18 | diff: 73.99 | rew_head: -0.41 | rew_dist: -0.68 | total: -1.75                                               \r"
     ]
    },
    {
     "name": "stderr",
     "output_type": "stream",
     "text": [
      "training progress:  30%|\u001b[38;2;51;255;0m████████████▎                            \u001b[0m| 30/100 [28:51<1:07:45, 58.08s/it]\u001b[0m"
     ]
    },
    {
     "name": "stdout",
     "output_type": "stream",
     "text": [
      "ep: 619 | required: 299.55 | current: 316.62 | diff: 17.07 | rew_head: -0.09 | rew_dist: -0.41 | total: -0.85                                              \r"
     ]
    },
    {
     "name": "stderr",
     "output_type": "stream",
     "text": [
      "training progress:  31%|\u001b[38;2;51;255;0m████████████▋                            \u001b[0m| 31/100 [29:50<1:07:00, 58.27s/it]\u001b[0m"
     ]
    },
    {
     "name": "stdout",
     "output_type": "stream",
     "text": [
      "ep: 639 | required: 35.86 | current: 109.25 | diff: 73.38 | rew_head: -0.41 | rew_dist: -0.51 | total: -1.57                                               \r"
     ]
    },
    {
     "name": "stderr",
     "output_type": "stream",
     "text": [
      "training progress:  32%|\u001b[38;2;51;255;0m█████████████                            \u001b[0m| 32/100 [30:50<1:06:26, 58.63s/it]\u001b[0m"
     ]
    },
    {
     "name": "stdout",
     "output_type": "stream",
     "text": [
      "ep: 659 | required: 30.42 | current: 65.84 | diff: 35.43 | rew_head: -0.20 | rew_dist: -0.25 | total: -0.89                                                \r"
     ]
    },
    {
     "name": "stderr",
     "output_type": "stream",
     "text": [
      "training progress:  33%|\u001b[38;2;51;255;0m█████████████▌                           \u001b[0m| 33/100 [31:49<1:05:51, 58.98s/it]\u001b[0m"
     ]
    },
    {
     "name": "stdout",
     "output_type": "stream",
     "text": [
      "ep: 679 | required: 318.09 | current: 2.34 | diff: 44.25 | rew_head: -0.25 | rew_dist: -0.54 | total: -1.28                                                \r"
     ]
    },
    {
     "name": "stderr",
     "output_type": "stream",
     "text": [
      "training progress:  34%|\u001b[38;2;51;255;0m█████████████▉                           \u001b[0m| 34/100 [32:48<1:04:48, 58.92s/it]\u001b[0m"
     ]
    },
    {
     "name": "stdout",
     "output_type": "stream",
     "text": [
      "ep: 697 | required: 256.56 | current: 215.12 | diff: 41.44 | rew_head: -0.23 | rew_dist: -0.48 | total: -1.19                                              \r"
     ]
    },
    {
     "name": "stderr",
     "output_type": "stream",
     "text": [
      "training progress:  35%|\u001b[38;2;51;255;0m██████████████▎                          \u001b[0m| 35/100 [33:46<1:03:32, 58.65s/it]\u001b[0m"
     ]
    },
    {
     "name": "stdout",
     "output_type": "stream",
     "text": [
      "ep: 719 | required: 311.24 | current: 290.50 | diff: 20.74 | rew_head: -0.12 | rew_dist: -0.40 | total: -0.88                                              \r"
     ]
    },
    {
     "name": "stderr",
     "output_type": "stream",
     "text": [
      "training progress:  36%|\u001b[38;2;51;255;0m██████████████▊                          \u001b[0m| 36/100 [34:46<1:02:53, 58.95s/it]\u001b[0m"
     ]
    },
    {
     "name": "stdout",
     "output_type": "stream",
     "text": [
      "ep: 739 | required: 133.32 | current: 127.39 | diff: 5.92 | rew_head: -0.03 | rew_dist: -0.72 | total: -1.03                                               \r"
     ]
    },
    {
     "name": "stderr",
     "output_type": "stream",
     "text": [
      "training progress:  37%|\u001b[38;2;51;255;0m███████████████▏                         \u001b[0m| 37/100 [35:44<1:01:48, 58.87s/it]\u001b[0m"
     ]
    },
    {
     "name": "stdout",
     "output_type": "stream",
     "text": [
      "ep: 757 | required: 311.17 | current: 23.67 | diff: 72.50 | rew_head: -0.40 | rew_dist: -0.07 | total: -1.12                                               \r"
     ]
    },
    {
     "name": "stderr",
     "output_type": "stream",
     "text": [
      "training progress:  38%|\u001b[38;2;51;255;0m███████████████▌                         \u001b[0m| 38/100 [36:43<1:00:46, 58.81s/it]\u001b[0m"
     ]
    },
    {
     "name": "stdout",
     "output_type": "stream",
     "text": [
      "ep: 779 | required: 285.66 | current: 259.17 | diff: 26.49 | rew_head: -0.15 | rew_dist: -0.43 | total: -0.97                                              \r"
     ]
    },
    {
     "name": "stderr",
     "output_type": "stream",
     "text": [
      "training progress:  39%|\u001b[38;2;51;255;0m████████████████▊                          \u001b[0m| 39/100 [37:42<59:43, 58.74s/it]\u001b[0m"
     ]
    },
    {
     "name": "stdout",
     "output_type": "stream",
     "text": [
      "ep: 799 | required: 192.39 | current: 201.24 | diff: 8.85 | rew_head: -0.05 | rew_dist: -0.36 | total: -0.71                                               \r"
     ]
    },
    {
     "name": "stderr",
     "output_type": "stream",
     "text": [
      "training progress:  40%|\u001b[38;2;51;255;0m█████████████████▏                         \u001b[0m| 40/100 [38:41<58:57, 58.96s/it]\u001b[0m"
     ]
    },
    {
     "name": "stdout",
     "output_type": "stream",
     "text": [
      "ep: 819 | required: 227.11 | current: 89.79 | diff: 137.32 | rew_head: -0.76 | rew_dist: -0.30 | total: -2.08                                              \r"
     ]
    },
    {
     "name": "stderr",
     "output_type": "stream",
     "text": [
      "training progress:  41%|\u001b[38;2;51;255;0m█████████████████▋                         \u001b[0m| 41/100 [39:40<57:50, 58.83s/it]\u001b[0m"
     ]
    },
    {
     "name": "stdout",
     "output_type": "stream",
     "text": [
      "ep: 839 | required: 171.47 | current: 112.10 | diff: 59.36 | rew_head: -0.33 | rew_dist: -0.39 | total: -1.30                                              \r"
     ]
    },
    {
     "name": "stderr",
     "output_type": "stream",
     "text": [
      "training progress:  42%|\u001b[38;2;51;255;0m██████████████████                         \u001b[0m| 42/100 [40:40<57:08, 59.12s/it]\u001b[0m"
     ]
    },
    {
     "name": "stdout",
     "output_type": "stream",
     "text": [
      "ep: 857 | required: 137.55 | current: 38.82 | diff: 98.73 | rew_head: -0.55 | rew_dist: -0.24 | total: -1.59                                               \r"
     ]
    },
    {
     "name": "stderr",
     "output_type": "stream",
     "text": [
      "training progress:  43%|\u001b[38;2;51;255;0m██████████████████▍                        \u001b[0m| 43/100 [41:40<56:28, 59.46s/it]\u001b[0m"
     ]
    },
    {
     "name": "stdout",
     "output_type": "stream",
     "text": [
      "ep: 879 | required: 347.44 | current: 31.80 | diff: 44.36 | rew_head: -0.25 | rew_dist: -0.38 | total: -1.12                                               \r"
     ]
    },
    {
     "name": "stderr",
     "output_type": "stream",
     "text": [
      "training progress:  44%|\u001b[38;2;51;255;0m██████████████████▉                        \u001b[0m| 44/100 [42:40<55:45, 59.74s/it]\u001b[0m"
     ]
    },
    {
     "name": "stdout",
     "output_type": "stream",
     "text": [
      "ep: 897 | required: 236.86 | current: 141.48 | diff: 95.37 | rew_head: -0.53 | rew_dist: -0.36 | total: -1.67                                              \r"
     ]
    },
    {
     "name": "stderr",
     "output_type": "stream",
     "text": [
      "training progress:  45%|\u001b[38;2;51;255;0m███████████████████▎                       \u001b[0m| 45/100 [43:39<54:23, 59.33s/it]\u001b[0m"
     ]
    },
    {
     "name": "stdout",
     "output_type": "stream",
     "text": [
      "ep: 917 | required: 344.99 | current: 12.20 | diff: 27.21 | rew_head: -0.15 | rew_dist: -0.50 | total: -1.05                                               \r"
     ]
    },
    {
     "name": "stderr",
     "output_type": "stream",
     "text": [
      "training progress:  46%|\u001b[38;2;51;255;0m███████████████████▊                       \u001b[0m| 46/100 [44:38<53:22, 59.30s/it]\u001b[0m"
     ]
    },
    {
     "name": "stdout",
     "output_type": "stream",
     "text": [
      "ep: 939 | required: 231.83 | current: 129.22 | diff: 102.61 | rew_head: -0.57 | rew_dist: -0.70 | total: -2.09                                             \r"
     ]
    },
    {
     "name": "stderr",
     "output_type": "stream",
     "text": [
      "training progress:  47%|\u001b[38;2;51;255;0m████████████████████▏                      \u001b[0m| 47/100 [45:37<52:24, 59.32s/it]\u001b[0m"
     ]
    },
    {
     "name": "stdout",
     "output_type": "stream",
     "text": [
      "ep: 959 | required: 167.33 | current: 166.15 | diff: 1.18 | rew_head: -0.01 | rew_dist: -0.35 | total: -0.62                                               \r"
     ]
    },
    {
     "name": "stderr",
     "output_type": "stream",
     "text": [
      "training progress:  48%|\u001b[38;2;51;255;0m████████████████████▋                      \u001b[0m| 48/100 [46:37<51:35, 59.53s/it]\u001b[0m"
     ]
    },
    {
     "name": "stdout",
     "output_type": "stream",
     "text": [
      "ep: 979 | required: 154.34 | current: 248.42 | diff: 94.08 | rew_head: -0.52 | rew_dist: -0.24 | total: -1.53                                              \r"
     ]
    },
    {
     "name": "stderr",
     "output_type": "stream",
     "text": [
      "training progress:  49%|\u001b[38;2;51;255;0m█████████████████████                      \u001b[0m| 49/100 [47:38<50:49, 59.80s/it]\u001b[0m"
     ]
    },
    {
     "name": "stdout",
     "output_type": "stream",
     "text": [
      "ep: 999 | required: 257.54 | current: 20.16 | diff: 122.62 | rew_head: -0.68 | rew_dist: -0.36 | total: -1.97                                              \r"
     ]
    },
    {
     "name": "stderr",
     "output_type": "stream",
     "text": [
      "training progress:  50%|\u001b[38;2;51;255;0m█████████████████████▌                     \u001b[0m| 50/100 [48:39<50:08, 60.17s/it]\u001b[0m"
     ]
    },
    {
     "name": "stdout",
     "output_type": "stream",
     "text": [
      "ep: 1019 | required: 28.31 | current: 109.29 | diff: 80.98 | rew_head: -0.45 | rew_dist: -0.32 | total: -1.47                                               \r"
     ]
    },
    {
     "name": "stderr",
     "output_type": "stream",
     "text": [
      "training progress:  51%|\u001b[38;2;51;255;0m█████████████████████▉                     \u001b[0m| 51/100 [49:38<48:59, 59.98s/it]\u001b[0m"
     ]
    },
    {
     "name": "stdout",
     "output_type": "stream",
     "text": [
      "ep: 1039 | required: 145.35 | current: 172.78 | diff: 27.43 | rew_head: -0.15 | rew_dist: -0.40 | total: -0.96                                              \r"
     ]
    },
    {
     "name": "stderr",
     "output_type": "stream",
     "text": [
      "training progress:  52%|\u001b[38;2;51;255;0m██████████████████████▎                    \u001b[0m| 52/100 [50:37<47:48, 59.75s/it]\u001b[0m"
     ]
    },
    {
     "name": "stdout",
     "output_type": "stream",
     "text": [
      "ep: 1059 | required: 132.35 | current: 65.17 | diff: 67.18 | rew_head: -0.37 | rew_dist: -0.21 | total: -1.21                                               \r"
     ]
    },
    {
     "name": "stderr",
     "output_type": "stream",
     "text": [
      "training progress:  53%|\u001b[38;2;51;255;0m██████████████████████▊                    \u001b[0m| 53/100 [51:38<46:55, 59.91s/it]\u001b[0m"
     ]
    },
    {
     "name": "stdout",
     "output_type": "stream",
     "text": [
      "ep: 1077 | required: 331.17 | current: 200.18 | diff: 130.98 | rew_head: -0.73 | rew_dist: -0.10 | total: -1.80                                             \r"
     ]
    },
    {
     "name": "stderr",
     "output_type": "stream",
     "text": [
      "training progress:  54%|\u001b[38;2;51;255;0m███████████████████████▏                   \u001b[0m| 54/100 [52:37<45:43, 59.64s/it]\u001b[0m"
     ]
    },
    {
     "name": "stdout",
     "output_type": "stream",
     "text": [
      "ep: 1099 | required: 86.85 | current: 129.44 | diff: 42.59 | rew_head: -0.24 | rew_dist: -0.30 | total: -1.02                                               \r"
     ]
    },
    {
     "name": "stderr",
     "output_type": "stream",
     "text": [
      "training progress:  55%|\u001b[38;2;51;255;0m███████████████████████▋                   \u001b[0m| 55/100 [53:37<44:57, 59.94s/it]\u001b[0m"
     ]
    },
    {
     "name": "stdout",
     "output_type": "stream",
     "text": [
      "ep: 1119 | required: 115.58 | current: 22.09 | diff: 93.50 | rew_head: -0.52 | rew_dist: -0.16 | total: -1.44                                               \r"
     ]
    },
    {
     "name": "stderr",
     "output_type": "stream",
     "text": [
      "training progress:  56%|\u001b[38;2;51;255;0m████████████████████████                   \u001b[0m| 56/100 [54:36<43:36, 59.46s/it]\u001b[0m"
     ]
    },
    {
     "name": "stdout",
     "output_type": "stream",
     "text": [
      "ep: 1137 | required: 275.17 | current: 230.63 | diff: 44.54 | rew_head: -0.25 | rew_dist: -0.65 | total: -1.39                                              \r"
     ]
    },
    {
     "name": "stderr",
     "output_type": "stream",
     "text": [
      "training progress:  57%|\u001b[38;2;51;255;0m████████████████████████▌                  \u001b[0m| 57/100 [55:35<42:40, 59.55s/it]\u001b[0m"
     ]
    },
    {
     "name": "stdout",
     "output_type": "stream",
     "text": [
      "ep: 1155 | required: 356.54 | current: 51.34 | diff: 54.80 | rew_head: -0.30 | rew_dist: -0.38 | total: -1.24                                               \r"
     ]
    },
    {
     "name": "stderr",
     "output_type": "stream",
     "text": [
      "training progress:  58%|\u001b[38;2;51;255;0m████████████████████████▉                  \u001b[0m| 58/100 [56:35<41:35, 59.42s/it]\u001b[0m"
     ]
    },
    {
     "name": "stdout",
     "output_type": "stream",
     "text": [
      "ep: 1179 | required: 119.75 | current: 164.05 | diff: 44.30 | rew_head: -0.25 | rew_dist: -0.54 | total: -1.28                                              \r"
     ]
    },
    {
     "name": "stderr",
     "output_type": "stream",
     "text": [
      "training progress:  59%|\u001b[38;2;51;255;0m█████████████████████████▎                 \u001b[0m| 59/100 [57:34<40:33, 59.36s/it]\u001b[0m"
     ]
    },
    {
     "name": "stdout",
     "output_type": "stream",
     "text": [
      "ep: 1199 | required: 121.30 | current: 178.31 | diff: 57.01 | rew_head: -0.32 | rew_dist: -0.21 | total: -1.09                                              \r"
     ]
    },
    {
     "name": "stderr",
     "output_type": "stream",
     "text": [
      "training progress:  60%|\u001b[38;2;51;255;0m█████████████████████████▊                 \u001b[0m| 60/100 [58:34<39:44, 59.60s/it]\u001b[0m"
     ]
    },
    {
     "name": "stdout",
     "output_type": "stream",
     "text": [
      "ep: 1219 | required: 218.38 | current: 59.42 | diff: 158.95 | rew_head: -0.88 | rew_dist: -0.06 | total: -2.08                                              \r"
     ]
    },
    {
     "name": "stderr",
     "output_type": "stream",
     "text": [
      "training progress:  61%|\u001b[38;2;51;255;0m██████████████████████████▏                \u001b[0m| 61/100 [59:34<38:52, 59.82s/it]\u001b[0m"
     ]
    },
    {
     "name": "stdout",
     "output_type": "stream",
     "text": [
      "ep: 1239 | required: 134.17 | current: 4.54 | diff: 129.63 | rew_head: -0.72 | rew_dist: -0.19 | total: -1.88                                               \r"
     ]
    },
    {
     "name": "stderr",
     "output_type": "stream",
     "text": [
      "training progress:  62%|\u001b[38;2;51;255;0m█████████████████████████▍               \u001b[0m| 62/100 [1:00:34<37:49, 59.72s/it]\u001b[0m"
     ]
    },
    {
     "name": "stdout",
     "output_type": "stream",
     "text": [
      "ep: 1257 | required: 336.33 | current: 2.28 | diff: 25.95 | rew_head: -0.14 | rew_dist: -0.18 | total: -0.72                                                \r"
     ]
    },
    {
     "name": "stderr",
     "output_type": "stream",
     "text": [
      "training progress:  63%|\u001b[38;2;51;255;0m█████████████████████████▊               \u001b[0m| 63/100 [1:01:33<36:47, 59.67s/it]\u001b[0m"
     ]
    },
    {
     "name": "stdout",
     "output_type": "stream",
     "text": [
      "ep: 1279 | required: 318.10 | current: 354.47 | diff: 36.38 | rew_head: -0.20 | rew_dist: -0.44 | total: -1.09                                              \r"
     ]
    },
    {
     "name": "stderr",
     "output_type": "stream",
     "text": [
      "training progress:  64%|\u001b[38;2;51;255;0m██████████████████████████▏              \u001b[0m| 64/100 [1:02:32<35:35, 59.33s/it]\u001b[0m"
     ]
    },
    {
     "name": "stdout",
     "output_type": "stream",
     "text": [
      "ep: 1299 | required: 351.56 | current: 56.12 | diff: 64.56 | rew_head: -0.36 | rew_dist: -0.48 | total: -1.45                                               \r"
     ]
    },
    {
     "name": "stderr",
     "output_type": "stream",
     "text": [
      "training progress:  65%|\u001b[38;2;51;255;0m██████████████████████████▋              \u001b[0m| 65/100 [1:03:31<34:39, 59.40s/it]\u001b[0m"
     ]
    },
    {
     "name": "stdout",
     "output_type": "stream",
     "text": [
      "ep: 1319 | required: 54.37 | current: 147.82 | diff: 93.45 | rew_head: -0.52 | rew_dist: -0.58 | total: -1.87                                               \r"
     ]
    },
    {
     "name": "stderr",
     "output_type": "stream",
     "text": [
      "training progress:  66%|\u001b[38;2;51;255;0m███████████████████████████              \u001b[0m| 66/100 [1:04:30<33:32, 59.18s/it]\u001b[0m"
     ]
    },
    {
     "name": "stdout",
     "output_type": "stream",
     "text": [
      "ep: 1337 | required: 102.38 | current: 93.61 | diff: 8.77 | rew_head: -0.05 | rew_dist: -0.33 | total: -0.67                                                \r"
     ]
    },
    {
     "name": "stderr",
     "output_type": "stream",
     "text": [
      "training progress:  67%|\u001b[38;2;51;255;0m███████████████████████████▍             \u001b[0m| 67/100 [1:05:29<32:35, 59.25s/it]\u001b[0m"
     ]
    },
    {
     "name": "stdout",
     "output_type": "stream",
     "text": [
      "ep: 1359 | required: 75.36 | current: 60.69 | diff: 14.67 | rew_head: -0.08 | rew_dist: -0.32 | total: -0.73                                                \r"
     ]
    },
    {
     "name": "stderr",
     "output_type": "stream",
     "text": [
      "training progress:  68%|\u001b[38;2;51;255;0m███████████████████████████▉             \u001b[0m| 68/100 [1:06:29<31:35, 59.24s/it]\u001b[0m"
     ]
    },
    {
     "name": "stdout",
     "output_type": "stream",
     "text": [
      "ep: 1375 | required: 15.51 | current: 55.34 | diff: 39.84 | rew_head: -0.22 | rew_dist: -0.23 | total: -0.92                                                \r"
     ]
    },
    {
     "name": "stderr",
     "output_type": "stream",
     "text": [
      "training progress:  69%|\u001b[38;2;51;255;0m████████████████████████████▎            \u001b[0m| 69/100 [1:07:28<30:40, 59.38s/it]\u001b[0m"
     ]
    },
    {
     "name": "stdout",
     "output_type": "stream",
     "text": [
      "ep: 1399 | required: 203.96 | current: 202.86 | diff: 1.10 | rew_head: -0.01 | rew_dist: -0.41 | total: -0.67                                               \r"
     ]
    },
    {
     "name": "stderr",
     "output_type": "stream",
     "text": [
      "training progress:  70%|\u001b[38;2;51;255;0m████████████████████████████▋            \u001b[0m| 70/100 [1:08:30<30:02, 60.09s/it]\u001b[0m"
     ]
    },
    {
     "name": "stdout",
     "output_type": "stream",
     "text": [
      "ep: 1419 | required: 280.86 | current: 309.15 | diff: 28.30 | rew_head: -0.16 | rew_dist: -0.12 | total: -0.68                                              \r"
     ]
    },
    {
     "name": "stderr",
     "output_type": "stream",
     "text": [
      "training progress:  71%|\u001b[38;2;51;255;0m█████████████████████████████            \u001b[0m| 71/100 [1:09:31<29:05, 60.19s/it]\u001b[0m"
     ]
    },
    {
     "name": "stdout",
     "output_type": "stream",
     "text": [
      "ep: 1439 | required: 339.94 | current: 346.63 | diff: 6.69 | rew_head: -0.04 | rew_dist: -0.29 | total: -0.62                                               \r"
     ]
    },
    {
     "name": "stderr",
     "output_type": "stream",
     "text": [
      "training progress:  72%|\u001b[38;2;51;255;0m█████████████████████████████▌           \u001b[0m| 72/100 [1:10:30<27:58, 59.95s/it]\u001b[0m"
     ]
    },
    {
     "name": "stdout",
     "output_type": "stream",
     "text": [
      "ep: 1459 | required: 151.44 | current: 133.54 | diff: 17.90 | rew_head: -0.10 | rew_dist: -0.69 | total: -1.14                                              \r"
     ]
    },
    {
     "name": "stderr",
     "output_type": "stream",
     "text": [
      "training progress:  73%|\u001b[38;2;51;255;0m█████████████████████████████▉           \u001b[0m| 73/100 [1:11:31<27:09, 60.34s/it]\u001b[0m"
     ]
    },
    {
     "name": "stdout",
     "output_type": "stream",
     "text": [
      "ep: 1479 | required: 145.21 | current: 85.35 | diff: 59.86 | rew_head: -0.33 | rew_dist: -0.48 | total: -1.40                                               \r"
     ]
    },
    {
     "name": "stderr",
     "output_type": "stream",
     "text": [
      "training progress:  74%|\u001b[38;2;51;255;0m██████████████████████████████▎          \u001b[0m| 74/100 [1:12:32<26:11, 60.45s/it]\u001b[0m"
     ]
    },
    {
     "name": "stdout",
     "output_type": "stream",
     "text": [
      "ep: 1499 | required: 302.92 | current: 32.21 | diff: 89.29 | rew_head: -0.50 | rew_dist: -0.20 | total: -1.44                                               \r"
     ]
    },
    {
     "name": "stderr",
     "output_type": "stream",
     "text": [
      "training progress:  75%|\u001b[38;2;51;255;0m██████████████████████████████▊          \u001b[0m| 75/100 [1:13:32<25:05, 60.22s/it]\u001b[0m"
     ]
    },
    {
     "name": "stdout",
     "output_type": "stream",
     "text": [
      "ep: 1517 | required: 263.60 | current: 85.28 | diff: 178.32 | rew_head: -0.99 | rew_dist: -0.22 | total: -2.45                                              \r"
     ]
    },
    {
     "name": "stderr",
     "output_type": "stream",
     "text": [
      "training progress:  76%|\u001b[38;2;51;255;0m███████████████████████████████▏         \u001b[0m| 76/100 [1:14:30<23:54, 59.77s/it]\u001b[0m"
     ]
    },
    {
     "name": "stdout",
     "output_type": "stream",
     "text": [
      "ep: 1539 | required: 175.01 | current: 17.03 | diff: 157.98 | rew_head: -0.88 | rew_dist: -0.29 | total: -2.29                                              \r"
     ]
    },
    {
     "name": "stderr",
     "output_type": "stream",
     "text": [
      "training progress:  77%|\u001b[38;2;51;255;0m███████████████████████████████▌         \u001b[0m| 77/100 [1:15:31<23:01, 60.06s/it]\u001b[0m"
     ]
    },
    {
     "name": "stdout",
     "output_type": "stream",
     "text": [
      "ep: 1557 | required: 191.46 | current: 134.90 | diff: 56.56 | rew_head: -0.31 | rew_dist: -0.44 | total: -1.32                                              \r"
     ]
    },
    {
     "name": "stderr",
     "output_type": "stream",
     "text": [
      "training progress:  78%|\u001b[38;2;51;255;0m███████████████████████████████▉         \u001b[0m| 78/100 [1:16:32<22:06, 60.28s/it]\u001b[0m"
     ]
    },
    {
     "name": "stdout",
     "output_type": "stream",
     "text": [
      "ep: 1579 | required: 254.84 | current: 227.25 | diff: 27.60 | rew_head: -0.15 | rew_dist: -0.55 | total: -1.11                                              \r"
     ]
    },
    {
     "name": "stderr",
     "output_type": "stream",
     "text": [
      "training progress:  79%|\u001b[38;2;51;255;0m████████████████████████████████▍        \u001b[0m| 79/100 [1:17:31<20:59, 59.97s/it]\u001b[0m"
     ]
    },
    {
     "name": "stdout",
     "output_type": "stream",
     "text": [
      "ep: 1599 | required: 283.03 | current: 256.77 | diff: 26.26 | rew_head: -0.15 | rew_dist: -0.41 | total: -0.95                                              \r"
     ]
    },
    {
     "name": "stderr",
     "output_type": "stream",
     "text": [
      "training progress:  80%|\u001b[38;2;51;255;0m████████████████████████████████▊        \u001b[0m| 80/100 [1:18:31<20:01, 60.10s/it]\u001b[0m"
     ]
    },
    {
     "name": "stdout",
     "output_type": "stream",
     "text": [
      "ep: 1619 | required: 200.69 | current: 244.89 | diff: 44.19 | rew_head: -0.25 | rew_dist: -0.30 | total: -1.04                                              \r"
     ]
    },
    {
     "name": "stderr",
     "output_type": "stream",
     "text": [
      "training progress:  81%|\u001b[38;2;51;255;0m█████████████████████████████████▏       \u001b[0m| 81/100 [1:19:32<19:06, 60.33s/it]\u001b[0m"
     ]
    },
    {
     "name": "stdout",
     "output_type": "stream",
     "text": [
      "ep: 1637 | required: 171.63 | current: 194.06 | diff: 22.43 | rew_head: -0.12 | rew_dist: -0.50 | total: -1.00                                              \r"
     ]
    },
    {
     "name": "stderr",
     "output_type": "stream",
     "text": [
      "training progress:  82%|\u001b[38;2;51;255;0m█████████████████████████████████▌       \u001b[0m| 82/100 [1:20:32<18:03, 60.20s/it]\u001b[0m"
     ]
    },
    {
     "name": "stdout",
     "output_type": "stream",
     "text": [
      "ep: 1659 | required: 327.92 | current: 156.05 | diff: 171.87 | rew_head: -0.95 | rew_dist: -0.63 | total: -2.79                                             \r"
     ]
    },
    {
     "name": "stderr",
     "output_type": "stream",
     "text": [
      "training progress:  83%|\u001b[38;2;51;255;0m██████████████████████████████████       \u001b[0m| 83/100 [1:21:32<17:02, 60.15s/it]\u001b[0m"
     ]
    },
    {
     "name": "stdout",
     "output_type": "stream",
     "text": [
      "ep: 1679 | required: 291.92 | current: 253.88 | diff: 38.04 | rew_head: -0.21 | rew_dist: -0.16 | total: -0.83                                              \r"
     ]
    },
    {
     "name": "stderr",
     "output_type": "stream",
     "text": [
      "training progress:  84%|\u001b[38;2;51;255;0m██████████████████████████████████▍      \u001b[0m| 84/100 [1:22:34<16:08, 60.56s/it]\u001b[0m"
     ]
    },
    {
     "name": "stdout",
     "output_type": "stream",
     "text": [
      "ep: 1699 | required: 22.56 | current: 101.08 | diff: 78.52 | rew_head: -0.44 | rew_dist: -0.43 | total: -1.55                                               \r"
     ]
    },
    {
     "name": "stderr",
     "output_type": "stream",
     "text": [
      "training progress:  85%|\u001b[38;2;51;255;0m██████████████████████████████████▊      \u001b[0m| 85/100 [1:23:33<15:01, 60.13s/it]\u001b[0m"
     ]
    },
    {
     "name": "stdout",
     "output_type": "stream",
     "text": [
      "ep: 1719 | required: 342.70 | current: 306.22 | diff: 36.47 | rew_head: -0.20 | rew_dist: -0.23 | total: -0.88                                              \r"
     ]
    },
    {
     "name": "stderr",
     "output_type": "stream",
     "text": [
      "training progress:  86%|\u001b[38;2;51;255;0m███████████████████████████████████▎     \u001b[0m| 86/100 [1:24:33<14:02, 60.16s/it]\u001b[0m"
     ]
    },
    {
     "name": "stdout",
     "output_type": "stream",
     "text": [
      "ep: 1739 | required: 312.36 | current: 306.01 | diff: 6.35 | rew_head: -0.04 | rew_dist: -0.45 | total: -0.77                                               \r"
     ]
    },
    {
     "name": "stderr",
     "output_type": "stream",
     "text": [
      "training progress:  87%|\u001b[38;2;51;255;0m███████████████████████████████████▋     \u001b[0m| 87/100 [1:25:34<13:04, 60.35s/it]\u001b[0m"
     ]
    },
    {
     "name": "stdout",
     "output_type": "stream",
     "text": [
      "ep: 1757 | required: 114.73 | current: 72.36 | diff: 42.37 | rew_head: -0.24 | rew_dist: -0.55 | total: -1.27                                               \r"
     ]
    },
    {
     "name": "stderr",
     "output_type": "stream",
     "text": [
      "training progress:  88%|\u001b[38;2;51;255;0m████████████████████████████████████     \u001b[0m| 88/100 [1:26:34<12:02, 60.19s/it]\u001b[0m"
     ]
    },
    {
     "name": "stdout",
     "output_type": "stream",
     "text": [
      "ep: 1779 | required: 39.77 | current: 142.02 | diff: 102.25 | rew_head: -0.57 | rew_dist: -0.67 | total: -2.06                                              \r"
     ]
    },
    {
     "name": "stderr",
     "output_type": "stream",
     "text": [
      "training progress:  89%|\u001b[38;2;51;255;0m████████████████████████████████████▍    \u001b[0m| 89/100 [1:27:33<10:58, 59.82s/it]\u001b[0m"
     ]
    },
    {
     "name": "stdout",
     "output_type": "stream",
     "text": [
      "ep: 1799 | required: 41.60 | current: 328.32 | diff: 73.28 | rew_head: -0.41 | rew_dist: -0.15 | total: -1.21                                               \r"
     ]
    },
    {
     "name": "stderr",
     "output_type": "stream",
     "text": [
      "training progress:  90%|\u001b[38;2;51;255;0m████████████████████████████████████▉    \u001b[0m| 90/100 [1:28:33<09:58, 59.89s/it]\u001b[0m"
     ]
    },
    {
     "name": "stdout",
     "output_type": "stream",
     "text": [
      "ep: 1817 | required: 78.38 | current: 118.49 | diff: 40.10 | rew_head: -0.22 | rew_dist: -0.23 | total: -0.93                                               \r"
     ]
    },
    {
     "name": "stderr",
     "output_type": "stream",
     "text": [
      "training progress:  91%|\u001b[38;2;51;255;0m█████████████████████████████████████▎   \u001b[0m| 91/100 [1:29:33<09:00, 60.09s/it]\u001b[0m"
     ]
    },
    {
     "name": "stdout",
     "output_type": "stream",
     "text": [
      "ep: 1839 | required: 322.98 | current: 314.79 | diff: 8.19 | rew_head: -0.05 | rew_dist: -0.42 | total: -0.76                                               \r"
     ]
    },
    {
     "name": "stderr",
     "output_type": "stream",
     "text": [
      "training progress:  92%|\u001b[38;2;51;255;0m█████████████████████████████████████▋   \u001b[0m| 92/100 [1:30:35<08:04, 60.57s/it]\u001b[0m"
     ]
    },
    {
     "name": "stdout",
     "output_type": "stream",
     "text": [
      "ep: 1859 | required: 103.73 | current: 82.65 | diff: 21.07 | rew_head: -0.12 | rew_dist: -0.42 | total: -0.90                                               \r"
     ]
    },
    {
     "name": "stderr",
     "output_type": "stream",
     "text": [
      "training progress:  93%|\u001b[38;2;51;255;0m██████████████████████████████████████▏  \u001b[0m| 93/100 [1:31:37<07:06, 60.94s/it]\u001b[0m"
     ]
    },
    {
     "name": "stdout",
     "output_type": "stream",
     "text": [
      "ep: 1879 | required: 37.15 | current: 40.30 | diff: 3.14 | rew_head: -0.02 | rew_dist: -0.62 | total: -0.90                                                 \r"
     ]
    },
    {
     "name": "stderr",
     "output_type": "stream",
     "text": [
      "training progress:  94%|\u001b[38;2;51;255;0m██████████████████████████████████████▌  \u001b[0m| 94/100 [1:32:37<06:03, 60.60s/it]\u001b[0m"
     ]
    },
    {
     "name": "stdout",
     "output_type": "stream",
     "text": [
      "ep: 1899 | required: 320.07 | current: 313.45 | diff: 6.63 | rew_head: -0.04 | rew_dist: -0.33 | total: -0.66                                               \r"
     ]
    },
    {
     "name": "stderr",
     "output_type": "stream",
     "text": [
      "training progress:  95%|\u001b[38;2;51;255;0m██████████████████████████████████████▉  \u001b[0m| 95/100 [1:33:37<05:02, 60.56s/it]\u001b[0m"
     ]
    },
    {
     "name": "stdout",
     "output_type": "stream",
     "text": [
      "ep: 1919 | required: 90.28 | current: 75.25 | diff: 15.03 | rew_head: -0.08 | rew_dist: -0.39 | total: -0.80                                                \r"
     ]
    },
    {
     "name": "stderr",
     "output_type": "stream",
     "text": [
      "training progress:  96%|\u001b[38;2;51;255;0m███████████████████████████████████████▎ \u001b[0m| 96/100 [1:34:37<04:01, 60.42s/it]\u001b[0m"
     ]
    },
    {
     "name": "stdout",
     "output_type": "stream",
     "text": [
      "ep: 1937 | required: 14.18 | current: 80.10 | diff: 65.92 | rew_head: -0.37 | rew_dist: -0.17 | total: -1.15                                                \r"
     ]
    },
    {
     "name": "stderr",
     "output_type": "stream",
     "text": [
      "training progress:  97%|\u001b[38;2;51;255;0m███████████████████████████████████████▊ \u001b[0m| 97/100 [1:35:37<03:00, 60.33s/it]\u001b[0m"
     ]
    },
    {
     "name": "stdout",
     "output_type": "stream",
     "text": [
      "ep: 1959 | required: 139.16 | current: 85.99 | diff: 53.17 | rew_head: -0.30 | rew_dist: -0.34 | total: -1.18                                               \r"
     ]
    },
    {
     "name": "stderr",
     "output_type": "stream",
     "text": [
      "training progress:  98%|\u001b[38;2;51;255;0m████████████████████████████████████████▏\u001b[0m| 98/100 [1:36:39<02:01, 60.89s/it]\u001b[0m"
     ]
    },
    {
     "name": "stdout",
     "output_type": "stream",
     "text": [
      "ep: 1977 | required: 217.01 | current: 195.10 | diff: 21.90 | rew_head: -0.12 | rew_dist: -0.29 | total: -0.78                                              \r"
     ]
    },
    {
     "name": "stderr",
     "output_type": "stream",
     "text": [
      "training progress:  99%|\u001b[38;2;51;255;0m████████████████████████████████████████▌\u001b[0m| 99/100 [1:37:39<01:00, 60.62s/it]\u001b[0m"
     ]
    },
    {
     "name": "stdout",
     "output_type": "stream",
     "text": [
      "ep: 1999 | required: 93.30 | current: 23.54 | diff: 69.76 | rew_head: -0.39 | rew_dist: -0.05 | total: -1.08                                                \r"
     ]
    },
    {
     "name": "stderr",
     "output_type": "stream",
     "text": [
      "training progress: 100%|\u001b[38;2;51;255;0m████████████████████████████████████████\u001b[0m| 100/100 [1:38:41<00:00, 59.22s/it]\u001b[0m"
     ]
    },
    {
     "name": "stdout",
     "output_type": "stream",
     "text": [
      "ep: 1999 | required: 93.30 | current: 23.54 | diff: 69.76 | rew_head: -0.39 | rew_dist: -0.05 | total: -1.08                                             \r"
     ]
    },
    {
     "name": "stderr",
     "output_type": "stream",
     "text": [
      "\n"
     ]
    }
   ],
   "source": [
    "# run parameters:\n",
    "number_of_runs = 100\n",
    "steps_per_run = 25000\n",
    "num_evals = 10\n",
    "\n",
    "# initialize the total reward:\n",
    "total_reward = []\n",
    "\n",
    "# model saving parameters:\n",
    "base_path = os.path.join(os.getcwd(), \"Nav2D_SAC_SB3_results\")\n",
    "results_path = os.path.join(base_path, f\"result_{len(os.listdir(base_path)) + 1}\")\n",
    "os.makedirs(results_path, exist_ok = True)\n",
    "\n",
    "# using model.learn approach:\n",
    "for run in tqdm(range(number_of_runs), ncols = 100, colour = \"#33FF00\", desc = \"training progress\"):\n",
    "    # learn every run:\n",
    "    model.learn(total_timesteps = steps_per_run, reset_num_timesteps = False)\n",
    "\n",
    "    # evaluate and save every 10th run:\n",
    "    if run % 10 == 0:\n",
    "        # after learning:\n",
    "        eval_reward = eval(eval_env, num_evals = num_evals, model = model)\n",
    "\n",
    "        # append the eval reward to the total reward:\n",
    "        total_reward.append(eval_reward)\n",
    "\n",
    "        # save the model to this directory:\n",
    "        model.save(os.path.join(results_path, f\"run_{run+1}\"))\n",
    "\n",
    "# close environment when done:\n",
    "env.close()"
   ]
  },
  {
   "cell_type": "code",
   "execution_count": 15,
   "id": "995f6480",
   "metadata": {},
   "outputs": [
    {
     "name": "stdout",
     "output_type": "stream",
     "text": [
      "[np.float64(-673.016), np.float64(-646.951), np.float64(-618.236), np.float64(-663.386), np.float64(-609.652), np.float64(-632.228), np.float64(-638.35), np.float64(-722.159), np.float64(-1116.104), np.float64(-864.577), np.float64(-882.999), np.float64(-1075.531), np.float64(-1130.52), np.float64(-1039.316), np.float64(-1207.833), np.float64(-859.517), np.float64(-1414.396), np.float64(-746.353), np.float64(-765.646), np.float64(-1113.237), np.float64(-870.53), np.float64(-854.741), np.float64(-1347.378), np.float64(-1069.91), np.float64(-1392.538), np.float64(-677.687), np.float64(-947.162), np.float64(-878.057), np.float64(-701.507), np.float64(-1075.221), np.float64(-1307.72), np.float64(-795.624), np.float64(-1069.526), np.float64(-959.129), np.float64(-910.816), np.float64(-1217.961), np.float64(-981.521), np.float64(-611.576), np.float64(-783.611), np.float64(-1137.664), np.float64(-1259.56), np.float64(-1102.799), np.float64(-941.327), np.float64(-1204.434), np.float64(-861.312), np.float64(-1010.349), np.float64(-1183.406), np.float64(-1111.951), np.float64(-983.617), np.float64(-1057.889), np.float64(-899.848), np.float64(-763.755), np.float64(-970.459), np.float64(-658.632), np.float64(-859.155), np.float64(-692.307), np.float64(-577.963), np.float64(-612.479), np.float64(-746.349), np.float64(-1033.206), np.float64(-877.671), np.float64(-663.856), np.float64(-724.577), np.float64(-619.362), np.float64(-720.407), np.float64(-694.242), np.float64(-544.977), np.float64(-668.088), np.float64(-659.339), np.float64(-843.818), np.float64(-757.802), np.float64(-657.073), np.float64(-1147.826), np.float64(-1005.795), np.float64(-1175.133), np.float64(-847.216), np.float64(-1233.656), np.float64(-650.645), np.float64(-872.623), np.float64(-823.557), np.float64(-898.106), np.float64(-712.689), np.float64(-756.159), np.float64(-1391.16), np.float64(-949.216), np.float64(-873.962), np.float64(-723.898), np.float64(-906.38), np.float64(-792.397), np.float64(-827.613), np.float64(-967.281), np.float64(-890.874), np.float64(-1049.737), np.float64(-815.603), np.float64(-753.127), np.float64(-942.775), np.float64(-1021.716), np.float64(-1230.262), np.float64(-645.578), np.float64(-822.536)]\n"
     ]
    },
    {
     "data": {
      "image/png": "[encoded data removed]",
      "text/plain": [
       "<Figure size 640x480 with 1 Axes>"
      ]
     },
     "metadata": {},
     "output_type": "display_data"
    }
   ],
   "source": [
    "print(total_reward)\n",
    "import matplotlib.pyplot as plt\n",
    "\n",
    "plt.plot(total_reward)\n",
    "plt.show()"
   ]
  },
  {
   "cell_type": "code",
   "execution_count": 16,
   "id": "1fa02600",
   "metadata": {},
   "outputs": [],
   "source": [
    "# if mujoco is angry:\n",
    "env.close()"
   ]
  },
  {
   "cell_type": "markdown",
   "id": "e4e45918",
   "metadata": {},
   "source": [
    "# **Visualization**\n",
    "\n",
    "This section visualizes the learned policy."
   ]
  },
  {
   "cell_type": "code",
   "execution_count": null,
   "id": "9c2c179f",
   "metadata": {},
   "outputs": [],
   "source": [
    "visualize = False\n",
    "testing_length = 1\n",
    "\n",
    "if visualize:\n",
    "    # render settings:\n",
    "    width = 1280\n",
    "    height = 1280\n",
    "    default_camera_config = {\"azimuth\" : 90.0, \"elevation\" : -90.0, \"distance\" : 3, \"lookat\" : [0.0, 0.0, 0.0]}\n",
    "    camera_id = 2\n",
    "\n",
    "    DEFAULT_CAMERA = \"overhead_camera\"\n",
    "    ENABLE_FRAME = True\n",
    "    RENDER_EVERY_FRAME = True \n",
    "\n",
    "    # make a single environment:\n",
    "    env = gym.make(\"Nav2D-v0\", \n",
    "                render_mode = \"human\", \n",
    "                width = width, \n",
    "                height = height,\n",
    "                default_camera_config = default_camera_config, \n",
    "                camera_id = camera_id, \n",
    "                max_episode_steps = 1000)\n",
    "\n",
    "    if DEFAULT_CAMERA==\"overhead_camera\": pyautogui.press('tab')\n",
    "    if ENABLE_FRAME: pyautogui.press('e') \n",
    "    if not RENDER_EVERY_FRAME: pyautogui.press('d') \n",
    "\n",
    "    # for every test episode:\n",
    "    for eps in range(testing_length):\n",
    "        obs, _ = env.reset()\n",
    "        done = False\n",
    "\n",
    "        # while not done:\n",
    "        while not done:\n",
    "            action, _ = model.predict(obs, deterministic = True)\n",
    "            nobs, reward, term, trunc, _ = env.step(action)\n",
    "            done = term or trunc\n",
    "\n",
    "            # advance observation, reset if not:\n",
    "            obs = nobs if not done else env.reset()\n",
    "            \n",
    "            # render for user:\n",
    "            env.render()\n",
    "\n",
    "    # close when done:\n",
    "    env.close()"
   ]
  }
 ],
 "metadata": {
  "kernelspec": {
   "display_name": "Python 3",
   "language": "python",
   "name": "python3"
  },
  "language_info": {
   "codemirror_mode": {
    "name": "ipython",
    "version": 3
   },
   "file_extension": ".py",
   "mimetype": "text/x-python",
   "name": "python",
   "nbconvert_exporter": "python",
   "pygments_lexer": "ipython3",
   "version": "3.12.5"
  }
 },
 "nbformat": 4,
 "nbformat_minor": 5
}
