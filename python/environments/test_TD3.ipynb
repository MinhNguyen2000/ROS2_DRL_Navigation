{
 "cells": [
  {
   "cell_type": "code",
   "execution_count": null,
   "id": "833edceb",
   "metadata": {},
   "outputs": [],
   "source": [
    "from stable_baselines3 import TD3,SAC\n",
    "from stable_baselines3.common.vec_env import DummyVecEnv, SubprocVecEnv\n",
    "from stable_baselines3.common.env_util import make_vec_env\n",
    "\n",
    "import gymnasium as gym\n",
    "from gymnasium.wrappers import RescaleAction\n",
    "import torch\n",
    "import nav2d        # Have to import the nav2d Python script, else we can't make env\n",
    "import numpy as np\n",
    "import os, re, json, time\n",
    "from datetime import datetime\n",
    "from tqdm import tqdm"
   ]
  },
  {
   "cell_type": "code",
   "execution_count": null,
   "id": "30f69ae1",
   "metadata": {},
   "outputs": [],
   "source": [
    "import pyautogui\n",
    "\n",
    "model_load = TD3.load('results/Nav2D_TD3_SB3_results/result_00006/run_60')\n",
    "\n",
    "# testing parameters\n",
    "n_test = 10\n",
    "success_count = 0\n",
    "\n",
    "# environment options\n",
    "width = 1920\n",
    "height = 1080\n",
    "default_camera_config = {\"azimuth\" : 90.0, \"elevation\" : -90.0, \"distance\" : 3, \"lookat\" : [0.0, 0.0, 0.0]}\n",
    "render_mode = \"human\" if n_test<=10 else \"rgb_array\"\n",
    "camera_id = 2\n",
    "\n",
    "DEFAULT_CAMERA = \"overhead_camera\"\n",
    "ENABLE_FRAME = True                     # enable the body frames\n",
    "RENDER_EVERY_FRAME = True              # similar sim speed as MuJoCo rendering when set to False, else slower\n",
    "\n",
    "test_env = gym.make(\"Nav2D-v0\", render_mode=render_mode, \n",
    "                    width=width,height=height,\n",
    "                    default_camera_config=default_camera_config,\n",
    "                    camera_id=camera_id,\n",
    "                    max_episode_steps=1_000,\n",
    "                    is_eval=False\n",
    "                    )\n",
    "obs, info = test_env.reset()\n",
    "\n",
    "core_env = test_env.unwrapped\n",
    "rew_goal = core_env.rew_goal_scale\n",
    "\n",
    "if DEFAULT_CAMERA==\"overhead_camera\": pyautogui.press('tab')\n",
    "if ENABLE_FRAME: pyautogui.press('e') \n",
    "if not RENDER_EVERY_FRAME: pyautogui.press('d') \n",
    "\n",
    "for eps in range(n_test):\n",
    "    obs, _ = test_env.reset()\n",
    "    done = False\n",
    "\n",
    "    while not done:\n",
    "        action, _ = model_load.predict(obs, deterministic=True)\n",
    "        # print(f\"{action}           \", end='\\r')\n",
    "        nobs, rew, term, trunc, info = test_env.step(action)\n",
    "        print(f\"action: {action} | rew_appr: {info.get('rew_approach',-10.0):10.6f}                      \", end=\"\\r\")\n",
    "        done = term or trunc\n",
    "\n",
    "        obs = nobs if not done else test_env.reset()[0]\n",
    "\n",
    "        # --- count the success\n",
    "        if rew == rew_goal: success_count += 1  \n",
    "\n",
    "print(f\"\\rSuccess rate out of {n_test} runs is {success_count/n_test*100:.2f}%             \")\n",
    "test_env.close()"
   ]
  },
  {
   "cell_type": "markdown",
   "id": "e39ef092",
   "metadata": {},
   "source": []
  }
 ],
 "metadata": {
  "kernelspec": {
   "display_name": "Python 3",
   "language": "python",
   "name": "python3"
  },
  "language_info": {
   "codemirror_mode": {
    "name": "ipython",
    "version": 3
   },
   "file_extension": ".py",
   "mimetype": "text/x-python",
   "name": "python",
   "nbconvert_exporter": "python",
   "pygments_lexer": "ipython3",
   "version": "3.10.12"
  }
 },
 "nbformat": 4,
 "nbformat_minor": 5
}
