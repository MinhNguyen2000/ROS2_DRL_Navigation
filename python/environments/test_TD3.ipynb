{
 "cells": [
  {
   "cell_type": "code",
   "execution_count": null,
   "id": "833edceb",
   "metadata": {},
   "outputs": [],
   "source": [
    "from stable_baselines3 import TD3,SAC\n",
    "from stable_baselines3.common.vec_env import DummyVecEnv, SubprocVecEnv\n",
    "from stable_baselines3.common.env_util import make_vec_env\n",
    "\n",
    "import gymnasium as gym\n",
    "from gymnasium.wrappers import RescaleAction\n",
    "import torch\n",
    "import nav2d        # Have to import the nav2d Python script, else we can't make env\n",
    "import numpy as np\n",
    "import os, re, json, time\n",
    "from datetime import datetime\n",
    "from tqdm import tqdm\n",
    "\n",
    "import pyautogui"
   ]
  },
  {
   "cell_type": "markdown",
   "id": "0d857112",
   "metadata": {},
   "source": [
    "Select the result and run to simulate"
   ]
  },
  {
   "cell_type": "code",
   "execution_count": null,
   "id": "1518ffdd",
   "metadata": {},
   "outputs": [],
   "source": [
    "result_dir = os.getcwd()\n",
    "result_num = \"result_00011\"\n",
    "run_num = \"run_100\"\n",
    "run_path = os.path.join(result_dir, \"results\", \"Nav2D_TD3_SB3_results\", result_num, run_num)\n",
    "model_load = TD3.load(run_path)"
   ]
  },
  {
   "cell_type": "markdown",
   "id": "dab639ca",
   "metadata": {},
   "source": [
    "Simulation parameters"
   ]
  },
  {
   "cell_type": "code",
   "execution_count": null,
   "id": "3f01fb36",
   "metadata": {},
   "outputs": [],
   "source": [
    "# testing parameters\n",
    "n_test = 10_000\n",
    "success_count = 0\n",
    "\n",
    "# environment options\n",
    "width = 1920\n",
    "height = 1080\n",
    "default_camera_config = {\"azimuth\" : 90.0, \"elevation\" : -90.0, \"distance\" : 3, \"lookat\" : [0.0, 0.0, 0.0]}\n",
    "render_mode = \"human\" if n_test<=10 else \"rgb_array\"\n",
    "camera_id = 2\n",
    "\n",
    "DEFAULT_CAMERA = \"overhead_camera\"\n",
    "ENABLE_FRAME = True                     # enable the body frames\n",
    "RENDER_EVERY_FRAME = True              # similar sim speed as MuJoCo rendering when set to False, else slower"
   ]
  },
  {
   "cell_type": "markdown",
   "id": "484d715b",
   "metadata": {},
   "source": [
    "Simulation"
   ]
  },
  {
   "cell_type": "code",
   "execution_count": null,
   "id": "30f69ae1",
   "metadata": {},
   "outputs": [
    {
     "name": "stderr",
     "output_type": "stream",
     "text": [
      "Evaluating...:   2%|\u001b[38;2;51;255;0m█                                             \u001b[0m| 23/1000 [00:03<02:30,  6.51it/s]\u001b[0m"
     ]
    }
   ],
   "source": [
    "test_env = gym.make(\"Nav2D-v0\", render_mode=render_mode, \n",
    "                    width=width,height=height,\n",
    "                    default_camera_config=default_camera_config,\n",
    "                    camera_id=camera_id,\n",
    "                    max_episode_steps=1_000,\n",
    "                    is_eval=False\n",
    "                    )\n",
    "obs, info = test_env.reset()\n",
    "\n",
    "core_env = test_env.unwrapped\n",
    "rew_goal = core_env.rew_goal_scale\n",
    "\n",
    "agent_init_list = []\n",
    "rew_head_list = []\n",
    "\n",
    "for eps in tqdm(range(n_test), ncols = 100, colour = \"#33FF00\", desc = f\"Evaluating...\"):\n",
    "    # if eps == 0:\n",
    "    #     if DEFAULT_CAMERA==\"overhead_camera\": pyautogui.press('tab')\n",
    "    #     if ENABLE_FRAME: pyautogui.press('e') \n",
    "    #     if not RENDER_EVERY_FRAME: pyautogui.press('d')\n",
    "    done = False\n",
    "    while not done:\n",
    "        action, _ = model_load.predict(obs, deterministic=True)\n",
    "        # print(f\"{action}           \", end='\\r')\n",
    "        nobs, rew, term, trunc, info = test_env.step(action)\n",
    "        # if render_mode == \"human\":  # visual\n",
    "        #     print(f\"action: {action} | rew_appr: {info.get('rew_approach',-10.0):10.6f}                      \", end=\"\\r\")\n",
    "        done = term or trunc\n",
    "\n",
    "        if not done:\n",
    "            obs = nobs\n",
    "        else: \n",
    "            obs, info = test_env.reset()\n",
    "            agent_init_list.append(info[\"agent_init\"])\n",
    "            rew_head_list.append(info[\"rew_head\"])\n",
    "            \n",
    "\n",
    "        # --- count the success\n",
    "        if rew == rew_goal: success_count += 1  \n",
    "\n",
    "# print(f\"\\rSuccess rate out    e of {n_test} runs is {success_count/n_test*100:.2f}%             \")\n",
    "test_env.close()"
   ]
  },
  {
   "cell_type": "markdown",
   "id": "bf8037a7",
   "metadata": {},
   "source": [
    "Inspect the headding reward over the runs"
   ]
  },
  {
   "cell_type": "code",
   "execution_count": null,
   "id": "c1ec22e0",
   "metadata": {},
   "outputs": [],
   "source": [
    "from statistics import mean, stdev\n",
    "print(f\"Heading reward           μ = {mean(rew_head_list): 6.5f}, σ={stdev(rew_head_list): 6.5f}\")"
   ]
  },
  {
   "cell_type": "markdown",
   "id": "c0f5e36b",
   "metadata": {},
   "source": [
    "Explore the reward received in each state space regions (discretized)"
   ]
  },
  {
   "cell_type": "code",
   "execution_count": null,
   "id": "7aaa0d0e",
   "metadata": {},
   "outputs": [],
   "source": [
    "import seaborn as sns\n",
    "import matplotlib.pyplot as plt\n",
    "\n",
    "size = core_env.size\n",
    "n_bins = 50\n",
    "grid_count = np.zeros((n_bins, n_bins), dtype=int)\n",
    "grid_reward = np.zeros((n_bins, n_bins), dtype=np.float64)\n",
    "\n",
    "for idx, agent_init in enumerate(agent_init_list):\n",
    "    x, y, theta = agent_init\n",
    "    \n",
    "    ix = int((x+size)/(2*size) * (n_bins - 1))\n",
    "    iy = int((y+size)/(2*size) * (n_bins - 1))\n",
    "    if ix >= 100 or iy >= 100:\n",
    "        print(x, y, ix, iy)\n",
    "    grid_count[ix, iy] += 1\n",
    "    count = grid_count[ix,iy]\n",
    "    alpha = (count-1)/count\n",
    "    grid_reward[ix,iy] = alpha * grid_reward[ix,iy] + (1-alpha) * rew_head_list[idx]\n",
    "    \n",
    "# print(grid)\n",
    "fig, axes = plt.subplots(1,2, figsize=(20,8))\n",
    "axes[0] = sns.heatmap(grid_count, ax=axes[0], cmap = 'plasma')\n",
    "axes[0].invert_yaxis()\n",
    "axes[0].set_aspect('equal')\n",
    "axes[0].set_title(f'Agent spawn frequency in {result_num}')\n",
    "\n",
    "plt.show \n",
    "\n",
    "axes[1] = sns.heatmap(grid_reward, ax=axes[1], cmap = 'plasma')\n",
    "axes[1].invert_yaxis()\n",
    "axes[1].set_aspect('equal')\n",
    "axes[1].set_title(f'Average reward in {result_num}')\n",
    "plt.show"
   ]
  },
  {
   "cell_type": "code",
   "execution_count": null,
   "id": "24347662",
   "metadata": {},
   "outputs": [],
   "source": [
    "rew_head_list"
   ]
  },
  {
   "cell_type": "code",
   "execution_count": null,
   "id": "5cb8fab6",
   "metadata": {},
   "outputs": [],
   "source": []
  }
 ],
 "metadata": {
  "kernelspec": {
   "display_name": "Python 3",
   "language": "python",
   "name": "python3"
  },
  "language_info": {
   "codemirror_mode": {
    "name": "ipython",
    "version": 3
   },
   "file_extension": ".py",
   "mimetype": "text/x-python",
   "name": "python",
   "nbconvert_exporter": "python",
   "pygments_lexer": "ipython3",
   "version": "3.10.12"
  }
 },
 "nbformat": 4,
 "nbformat_minor": 5
}
